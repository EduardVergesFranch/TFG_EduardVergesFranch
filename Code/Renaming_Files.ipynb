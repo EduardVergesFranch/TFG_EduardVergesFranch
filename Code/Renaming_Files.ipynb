{
 "cells": [
  {
   "cell_type": "markdown",
   "id": "3c13fcef",
   "metadata": {},
   "source": [
    "# Renaming Files\n",
    "\n",
    "This code renames the files for being able to use the loaders when doing the experiments."
   ]
  },
  {
   "cell_type": "code",
   "execution_count": 23,
   "id": "ab1f554e",
   "metadata": {},
   "outputs": [],
   "source": [
    "from sklearn import tree\n",
    "from pychord_tools.models import load_model\n",
    "import json\n",
    "import glob, os,sys\n",
    "\n",
    "sys.path.append('../')"
   ]
  },
  {
   "cell_type": "code",
   "execution_count": 24,
   "id": "42f19074",
   "metadata": {},
   "outputs": [],
   "source": [
    "songs = ['Lily','Mountain','Century','Where','Hole','Train']\n",
    "\n",
    "anno = ['../test_data/Lily Was Here/Lily Was Here.json',\n",
    "        '../test_data/Mountain At My Gates/Mountain At My Gates.json',\n",
    "        '../test_data/20th Century Boy/20th Century Boy.json',\n",
    "        '../test_data/Where Did You Sleep Last Night/Where Did You Sleep Last Night.json',\n",
    "        '../test_data/Hole In My Shoe/Hole In My Shoe.json', \n",
    "        '../test_data/Runaway Train/Runaway Train.json']  \n",
    "\n",
    "ex_2_id={0:'../test_data/Lily Was Here/Lily Was Here.json',\n",
    "         1:'../test_data/Mountain At My Gates/Mountain At My Gates.json',\n",
    "         2:'../test_data/20th Century Boy/20th Century Boy.json',\n",
    "         3:'../test_data/Where Did You Sleep Last Night/Where Did You Sleep Last Night.json',\n",
    "         4:'../test_data/Hole In My Shoe/Hole In My Shoe.json',\n",
    "         5:'../test_data/Runaway Train/Runaway Train.json'}"
   ]
  },
  {
   "cell_type": "code",
   "execution_count": 25,
   "id": "0f6d0b7c",
   "metadata": {},
   "outputs": [],
   "source": [
    "names_map = {'Laptop_Speaker':'SimComp',\n",
    "            'Mobile_Phone_01' : 'SimMobile1',\n",
    "            'Mobile_Phone_03' : 'SimMobile2',\n",
    "            'Radio_01':'SimRadio1',\n",
    "            'Radio_02' : 'SimRadio2',\n",
    "            'Voice_Recorder_01':'SimVoiceRecorder',\n",
    "            'AKG_C3000_25cm':'AKG',\n",
    "            'Sennheiser_e609_Direct':'Sennheiser',\n",
    "            'Shure_Beta52_Direct':'Shure',\n",
    "            'TakStar_Direct_A' : 'TakStar',\n",
    "             \n",
    "            'Small_04':'Small1',\n",
    "            'Small_05': 'Small2',\n",
    "            'Small_tiled_room':'Small3',\n",
    "            'h008':'Small4',\n",
    "             \n",
    "            'Living_Room':'Medium1',\n",
    "            'Medium_02':'Medium2',\n",
    "            'Medium_05':'Medium3',\n",
    "            'h027':'Medium4',\n",
    "             \n",
    "             'Large_05':'Large1',\n",
    "             'Large_tiled_room':'Large2',\n",
    "             'Large_wooden_room':'Large3',\n",
    "             'h094':'Large4'}"
   ]
  },
  {
   "cell_type": "code",
   "execution_count": 26,
   "id": "f729c1aa",
   "metadata": {},
   "outputs": [],
   "source": [
    "base_path = '../Databases/Augmented_database/'\n",
    "paths = [base_path + name for name in os.listdir(base_path) if os.path.isdir(base_path + name)]"
   ]
  },
  {
   "cell_type": "code",
   "execution_count": 27,
   "id": "d66cab99",
   "metadata": {},
   "outputs": [],
   "source": [
    "paths = [p+'/' for p in paths if p !='../Databases/Augmented_database/Folds_MeldaProduction_Rooms']"
   ]
  },
  {
   "cell_type": "code",
   "execution_count": 28,
   "id": "c05df3e8",
   "metadata": {},
   "outputs": [
    {
     "data": {
      "text/plain": [
       "['../Databases/Augmented_database/MeldaProduction_Rooms/',\n",
       " '../Databases/Augmented_database/MIT_Reverbs/',\n",
       " '../Databases/Augmented_database/SOX_Filters/',\n",
       " '../Databases/Augmented_database/MeldaProduction_Box/',\n",
       " '../Databases/Augmented_database/SOX_Effects/',\n",
       " '../Databases/Augmented_database/MeldaProduction_Microphones/']"
      ]
     },
     "execution_count": 28,
     "metadata": {},
     "output_type": "execute_result"
    }
   ],
   "source": [
    "paths"
   ]
  },
  {
   "cell_type": "code",
   "execution_count": 29,
   "id": "f94eefb8",
   "metadata": {},
   "outputs": [],
   "source": [
    "for p in paths:\n",
    "    files = glob.glob(p + '/*.wav')\n",
    "    for f in files:\n",
    "        f_name = f.split('/')[-1].replace('.wav','').split('_')\n",
    "        ir =  '_'.join(f_name[4:])\n",
    "        f_head = '_'.join(f_name[:3])\n",
    "\n",
    "        if ir in names_map.keys():\n",
    "        \n",
    "            out_name = p + f_head+ '_' + names_map[ir]+'.wav'\n",
    "        else:\n",
    "            out_name = p + f_head+ '_' + ir+'.wav'\n",
    "        os.rename(f,out_name)"
   ]
  }
 ],
 "metadata": {
  "kernelspec": {
   "display_name": "Python 3.6.8 64-bit ('simmusic': conda)",
   "language": "python",
   "name": "python36864bitsimmusicconda80a6b826c14a42388df8af3b62b964c2"
  },
  "language_info": {
   "codemirror_mode": {
    "name": "ipython",
    "version": 3
   },
   "file_extension": ".py",
   "mimetype": "text/x-python",
   "name": "python",
   "nbconvert_exporter": "python",
   "pygments_lexer": "ipython3",
   "version": "3.6.8"
  }
 },
 "nbformat": 4,
 "nbformat_minor": 5
}
