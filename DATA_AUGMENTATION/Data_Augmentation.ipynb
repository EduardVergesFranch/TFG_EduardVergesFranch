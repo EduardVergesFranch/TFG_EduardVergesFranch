{
 "cells": [
  {
   "cell_type": "code",
   "execution_count": 1,
   "id": "95fa0a22",
   "metadata": {},
   "outputs": [],
   "source": [
    "import essentia.standard as ess\n",
    "import numpy as np\n",
    "from scipy.signal import convolve\n",
    "import glob, os, sys\n"
   ]
  },
  {
   "cell_type": "code",
   "execution_count": 2,
   "id": "fa4ff305",
   "metadata": {},
   "outputs": [],
   "source": [
    "import sox\n",
    "from audiomentations import Compose, AddGaussianNoise, TimeStretch, PitchShift, Shift, AddImpulseResponse"
   ]
  },
  {
   "cell_type": "code",
   "execution_count": 3,
   "id": "8aae5d6c",
   "metadata": {},
   "outputs": [],
   "source": [
    "sys.path.append('../../')"
   ]
  },
  {
   "cell_type": "code",
   "execution_count": 4,
   "id": "fdbfd512",
   "metadata": {},
   "outputs": [],
   "source": [
    "ir_path = './IR/'\n",
    "store_path = '/media/eduard/Maxtor/TFG_DATABASE_AUGMENTATION/'"
   ]
  },
  {
   "cell_type": "code",
   "execution_count": 5,
   "id": "ce9a432a",
   "metadata": {},
   "outputs": [],
   "source": [
    "audio_path = '../../TFG_DATABASE_PROCESSED/'\n",
    "raw_audios = glob.glob(audio_path + '*_DI.wav') #+ glob.glob(audio_path + '*_Reference.wav')\n",
    "sample_rate = 44100\n",
    "# audio = ess.MonoLoader(filename=audio_path, sampleRate=sample_rate)()"
   ]
  },
  {
   "cell_type": "code",
   "execution_count": 6,
   "id": "b9152052",
   "metadata": {},
   "outputs": [],
   "source": [
    "# Filter ir files"
   ]
  },
  {
   "cell_type": "code",
   "execution_count": 7,
   "id": "b9562834",
   "metadata": {},
   "outputs": [],
   "source": [
    "filtered_ir =['classroom','diningroom','livingroom','bedroom','office','kitchen']\n",
    "not_wanted = ['conferenceroom','1txts','1txs','meetingroom','bathroom','hallway','largebrickwalledopenplanoffic','lobby','foyer']\n",
    "ir_files = []\n",
    "for f in glob.glob(ir_path + '*.wav'):\n",
    "    f_norm = f.lower()\n",
    "    if any(room in f_norm for room in filtered_ir):\n",
    "        if any(room in f_norm for room in not_wanted ):\n",
    "            pass\n",
    "        else:\n",
    "            ir_files.append(f)"
   ]
  },
  {
   "cell_type": "code",
   "execution_count": 8,
   "id": "fa1d7d34",
   "metadata": {
    "collapsed": true
   },
   "outputs": [
    {
     "data": {
      "text/plain": [
       "['./IR/h098_Bedroom_2txts.wav',\n",
       " './IR/h004_LivingRoom_Large_48txts.wav',\n",
       " './IR/h101_Classroom_2txts.wav',\n",
       " './IR/h033_Classroom_6txts.wav',\n",
       " './IR/h094_Campground_CabinLivingroom_2txts.wav',\n",
       " './IR/h002_Bedroom_62txts.wav',\n",
       " './IR/h027_Classroom_8txts.wav',\n",
       " './IR/h001_Bedroom_65txts.wav',\n",
       " './IR/h015_Bedroom_174txts.wav',\n",
       " './IR/h099_Classroom_2txts.wav',\n",
       " './IR/h006_Bedroom_42txts.wav',\n",
       " './IR/h106_Classroom_2txts.wav',\n",
       " './IR/h005_Office_Small_44txts.wav',\n",
       " './IR/h039_Classroom_5txts.wav',\n",
       " './IR/h045_Livingroom_4txts.wav',\n",
       " './IR/h064_Classroom_3txts.wav',\n",
       " './IR/h031_Bedroom_7txts.wav',\n",
       " './IR/h017_Livingroom_152txts.wav',\n",
       " './IR/h018_Kitchen_12txts.wav',\n",
       " './IR/h028_Classroom_8txts.wav',\n",
       " './IR/h065_Classroom_3txts.wav',\n",
       " './IR/h012_Kitchen_22txts.wav',\n",
       " './IR/h103_Classroom_2txts.wav',\n",
       " './IR/h037_Classroom_5txts.wav',\n",
       " './IR/h008_Bedroom_35txts.wav',\n",
       " './IR/h032_Bedroom_6txts.wav',\n",
       " './IR/h016_MasterBedroom_15txts.wav',\n",
       " './IR/h025_Diningroom_8txts.wav',\n",
       " './IR/h105_Classroom_2txts.wav',\n",
       " './IR/h021_Bedroom_102txts.wav',\n",
       " './IR/h023_Bedroom_9txts.wav',\n",
       " './IR/h009_Office_32txts.wav',\n",
       " './IR/h054_Kitchen_3txts.wav',\n",
       " './IR/h100_Classroom_2txts.wav',\n",
       " './IR/h020_Livingroom_10txts.wav',\n",
       " './IR/h104_Classroom_2txts.wav',\n",
       " './IR/h034_Classroom_6txts.wav']"
      ]
     },
     "execution_count": 8,
     "metadata": {},
     "output_type": "execute_result"
    }
   ],
   "source": [
    "ir_files"
   ]
  },
  {
   "cell_type": "code",
   "execution_count": 9,
   "id": "67fa2f46",
   "metadata": {},
   "outputs": [],
   "source": [
    "reverb_names = [r.split('_')[0].replace(ir_path,'') for r in ir_files]"
   ]
  },
  {
   "cell_type": "markdown",
   "id": "e5bfbba6",
   "metadata": {},
   "source": [
    "# APPLY EFFECTS"
   ]
  },
  {
   "cell_type": "markdown",
   "id": "43dd4239",
   "metadata": {},
   "source": [
    "Chorus"
   ]
  },
  {
   "cell_type": "code",
   "execution_count": 9,
   "id": "7aa376a3",
   "metadata": {},
   "outputs": [
    {
     "data": {
      "text/plain": [
       "True"
      ]
     },
     "execution_count": 9,
     "metadata": {},
     "output_type": "execute_result"
    }
   ],
   "source": [
    "tfm = sox.Transformer()\n",
    "tfm.set_globals(guard = True)\n",
    "tfm.chorus()\n",
    "\n",
    "tfm.build_file(audio_path, store_path+ audio_path.split('/')[-1].replace('.wav','_') +'Chorus'+ '.wav')\n"
   ]
  },
  {
   "cell_type": "markdown",
   "id": "6e54d448",
   "metadata": {},
   "source": [
    "Flanger"
   ]
  },
  {
   "cell_type": "code",
   "execution_count": 41,
   "id": "5b35fbfa",
   "metadata": {},
   "outputs": [
    {
     "data": {
      "text/plain": [
       "True"
      ]
     },
     "execution_count": 41,
     "metadata": {},
     "output_type": "execute_result"
    }
   ],
   "source": [
    "tfm = sox.Transformer()\n",
    "tfm.set_globals(guard = True)\n",
    "tfm.flanger()\n",
    "\n",
    "tfm.build_file(audio_path,'./Reverbs/'+ audio_path.split('/')[-1].replace('.wav','_') +'Flanger'+ '.wav')\n"
   ]
  },
  {
   "cell_type": "markdown",
   "id": "d2307cce",
   "metadata": {},
   "source": [
    "Overdrive"
   ]
  },
  {
   "cell_type": "code",
   "execution_count": 42,
   "id": "6381f9f4",
   "metadata": {},
   "outputs": [
    {
     "data": {
      "text/plain": [
       "True"
      ]
     },
     "execution_count": 42,
     "metadata": {},
     "output_type": "execute_result"
    }
   ],
   "source": [
    "tfm = sox.Transformer()\n",
    "tfm.set_globals(guard = False)\n",
    "tfm.overdrive()\n",
    "\n",
    "tfm.build_file(audio_path,'./Reverbs/'+ audio_path.split('/')[-1].replace('.wav','_') +'OverDrive'+ '.wav')\n"
   ]
  },
  {
   "cell_type": "markdown",
   "id": "97c380f4",
   "metadata": {},
   "source": [
    "Phaser"
   ]
  },
  {
   "cell_type": "code",
   "execution_count": 43,
   "id": "31a3432e",
   "metadata": {},
   "outputs": [
    {
     "data": {
      "text/plain": [
       "True"
      ]
     },
     "execution_count": 43,
     "metadata": {},
     "output_type": "execute_result"
    }
   ],
   "source": [
    "tfm = sox.Transformer()\n",
    "tfm.set_globals(guard = True)\n",
    "tfm.phaser()\n",
    "\n",
    "tfm.build_file(audio_path,'./Reverbs/'+ audio_path.split('/')[-1].replace('.wav','_') +'Phaser'+ '.wav')\n"
   ]
  },
  {
   "cell_type": "markdown",
   "id": "4d18f4e9",
   "metadata": {},
   "source": [
    "# APPLY FILTERS"
   ]
  },
  {
   "cell_type": "markdown",
   "id": "524302fa",
   "metadata": {},
   "source": [
    "High pass"
   ]
  },
  {
   "cell_type": "code",
   "execution_count": 52,
   "id": "be7beb01",
   "metadata": {},
   "outputs": [],
   "source": [
    "freq = [200,300,400,500]\n",
    "for f in freq:\n",
    "    tfm = sox.Transformer()\n",
    "    tfm.set_globals(guard = True)\n",
    "    tfm.highpass(frequency = f)\n",
    "\n",
    "    tfm.build_file(audio_path,'./Reverbs/'+ audio_path.split('/')[-1].replace('.wav','_') +'Hpass'+str(f)+ '.wav')\n"
   ]
  },
  {
   "cell_type": "markdown",
   "id": "9e6f0d71",
   "metadata": {},
   "source": [
    "Low pass"
   ]
  },
  {
   "cell_type": "code",
   "execution_count": 55,
   "id": "47d5ed39",
   "metadata": {},
   "outputs": [
    {
     "name": "stderr",
     "output_type": "stream",
     "text": [
      "output_file: ./Reverbs/Century_Eastman_130_DI_Lpass2000.wav already exists and will be overwritten on build\n",
      "output_file: ./Reverbs/Century_Eastman_130_DI_Lpass2500.wav already exists and will be overwritten on build\n",
      "output_file: ./Reverbs/Century_Eastman_130_DI_Lpass1000.wav already exists and will be overwritten on build\n",
      "output_file: ./Reverbs/Century_Eastman_130_DI_Lpass500.wav already exists and will be overwritten on build\n"
     ]
    }
   ],
   "source": [
    "freq = [2000,2500,1000,500,300]\n",
    "for f in freq:\n",
    "    tfm = sox.Transformer()\n",
    "    tfm.set_globals(guard = True)\n",
    "    tfm.lowpass(frequency = f)\n",
    "\n",
    "    tfm.build_file(audio_path,'./Reverbs/'+ audio_path.split('/')[-1].replace('.wav','_') +'Lpass'+str(f)+ '.wav')\n"
   ]
  },
  {
   "cell_type": "markdown",
   "id": "b60566e5",
   "metadata": {},
   "source": [
    "Treble"
   ]
  },
  {
   "cell_type": "code",
   "execution_count": 56,
   "id": "90cf510e",
   "metadata": {},
   "outputs": [],
   "source": [
    "boost = [-20,20]\n",
    "for b in boost:\n",
    "    tfm = sox.Transformer()\n",
    "    tfm.set_globals(guard = True)\n",
    "    tfm.treble(b)\n",
    "\n",
    "    tfm.build_file(audio_path,'./Reverbs/'+ audio_path.split('/')[-1].replace('.wav','_') +'Treble'+str(b)+ '.wav')\n"
   ]
  },
  {
   "cell_type": "markdown",
   "id": "c217824c",
   "metadata": {},
   "source": [
    "# APPLY REVERBERATIONS"
   ]
  },
  {
   "cell_type": "code",
   "execution_count": 11,
   "id": "cf79f371",
   "metadata": {},
   "outputs": [],
   "source": [
    "count = 0\n",
    "for aud in raw_audios:\n",
    "    audio = ess.MonoLoader(filename=aud, sampleRate=sample_rate)()\n",
    "    for ir,rev in zip(ir_files,reverb_names):\n",
    "        ir_samples = list(ess.MonoLoader(filename=ir, sampleRate=sample_rate)())\n",
    "        \n",
    "        tfm = sox.Transformer()\n",
    "        tfm.set_globals(guard = True) \n",
    "        tfm.fir(ir_samples)\n",
    "        output_file_name = store_path + aud.split('/')[-1].replace('.wav','_') +rev + str(count) + '.wav'\n",
    "        \n",
    "        tfm.build_file(input_array = audio,\n",
    "                        sample_rate_in = sample_rate,\n",
    "                        output_filepath = output_file_name)\n",
    "        count += 1\n",
    "        # ess.MonoWriter(filename= './Reverbs/'+ audio_path.split('/')[-1].replace('.wav','_') +rev.replace('.wav','') + '.wav' , format='wav')(audio_convolved)"
   ]
  },
  {
   "cell_type": "markdown",
   "id": "e1f23e91",
   "metadata": {},
   "source": [
    "# APPLY GAUSSIAN RANDOM NOISE"
   ]
  },
  {
   "cell_type": "code",
   "execution_count": 68,
   "id": "29421cf6",
   "metadata": {},
   "outputs": [],
   "source": [
    "from audiomentations import Compose, AddGaussianNoise, TimeStretch, PitchShift, Shift\n",
    "import numpy as np\n",
    "\n",
    "NOISES = 5\n",
    "SAMPLE_RATE = 441000\n",
    "\n",
    "for n in range(0,NOISES):\n",
    "    augment = Compose([\n",
    "        AddGaussianNoise(min_amplitude=0.001, max_amplitude=0.015, p=0.1),])\n",
    "\n",
    "    # Augment/transform/perturb the audio data\n",
    "    augmented_samples = augment(samples=audio, sample_rate=SAMPLE_RATE)\n",
    "\n",
    "    ess.MonoWriter(filename= './Reverbs/'+ audio_path.split('/')[-1].replace('.wav','_')+'noise'+str(n)+'.wav', format='wav')(augmented_samples)"
   ]
  }
 ],
 "metadata": {
  "kernelspec": {
   "display_name": "Python 3",
   "language": "python",
   "name": "python3"
  },
  "language_info": {
   "codemirror_mode": {
    "name": "ipython",
    "version": 3
   },
   "file_extension": ".py",
   "mimetype": "text/x-python",
   "name": "python",
   "nbconvert_exporter": "python",
   "pygments_lexer": "ipython3",
   "version": "3.6.13"
  }
 },
 "nbformat": 4,
 "nbformat_minor": 5
}
