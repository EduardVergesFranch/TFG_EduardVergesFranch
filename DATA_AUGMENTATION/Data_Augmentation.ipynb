{
 "cells": [
  {
   "cell_type": "code",
   "execution_count": 12,
   "id": "95fa0a22",
   "metadata": {},
   "outputs": [],
   "source": [
    "import essentia.standard as ess\n",
    "import numpy as np\n",
    "from scipy.signal import convolve\n",
    "import glob, os, sys\n"
   ]
  },
  {
   "cell_type": "code",
   "execution_count": 13,
   "id": "fa4ff305",
   "metadata": {},
   "outputs": [],
   "source": [
    "import sox\n",
    "from audiomentations import Compose, AddGaussianNoise, TimeStretch, PitchShift, Shift, AddImpulseResponse"
   ]
  },
  {
   "cell_type": "code",
   "execution_count": 14,
   "id": "8aae5d6c",
   "metadata": {},
   "outputs": [],
   "source": [
    "sys.path.append('../../')"
   ]
  },
  {
   "cell_type": "code",
   "execution_count": 22,
   "id": "fdbfd512",
   "metadata": {},
   "outputs": [],
   "source": [
    "ir_path = './IR/'"
   ]
  },
  {
   "cell_type": "code",
   "execution_count": 16,
   "id": "ce9a432a",
   "metadata": {},
   "outputs": [],
   "source": [
    "audio_path = '../Databases/Raw_database/'\n",
    "raw_audios = glob.glob(audio_path + '*_DI.wav') #+ glob.glob(audio_path + '*_Reference.wav')\n",
    "sample_rate = 44100\n",
    "# audio = ess.MonoLoader(filename=audio_path, sampleRate=sample_rate)()"
   ]
  },
  {
   "cell_type": "code",
   "execution_count": 6,
   "id": "b9152052",
   "metadata": {},
   "outputs": [],
   "source": [
    "# Filter ir files"
   ]
  },
  {
   "cell_type": "code",
   "execution_count": 18,
   "id": "b9562834",
   "metadata": {},
   "outputs": [],
   "source": [
    "filtered_ir =['classroom','diningroom','livingroom','bedroom','office','kitchen']\n",
    "not_wanted = ['conferenceroom','1txts','1txs','meetingroom','bathroom','hallway','largebrickwalledopenplanoffic','lobby','foyer']\n",
    "ir_files = []\n",
    "for f in glob.glob(ir_path + '*.wav'):\n",
    "    f_norm = f.lower()\n",
    "    if any(room in f_norm for room in filtered_ir):\n",
    "        if any(room in f_norm for room in not_wanted ):\n",
    "            pass\n",
    "        else:\n",
    "            ir_files.append(f)"
   ]
  },
  {
   "cell_type": "code",
   "execution_count": 20,
   "id": "67fa2f46",
   "metadata": {},
   "outputs": [],
   "source": [
    "reverb_names = [r.split('_')[0].replace(ir_path,'') for r in ir_files]"
   ]
  },
  {
   "cell_type": "markdown",
   "id": "c217824c",
   "metadata": {},
   "source": [
    "# APPLY REVERBERATIONS"
   ]
  },
  {
   "cell_type": "code",
   "execution_count": 23,
   "id": "cf79f371",
   "metadata": {},
   "outputs": [],
   "source": [
    "store_path = '/media/eduard/Maxtor/TFG_DATABASE_AUGMENTATION/Reverbs/'\n",
    "for aud in raw_audios:\n",
    "    audio = ess.MonoLoader(filename=aud, sampleRate=sample_rate)()\n",
    "    for ir,rev in zip(ir_files,reverb_names):\n",
    "        ir_samples = list(ess.MonoLoader(filename=ir, sampleRate=sample_rate)())\n",
    "        \n",
    "        tfm = sox.Transformer()\n",
    "        tfm.set_globals(guard = True) \n",
    "        tfm.fir(ir_samples)\n",
    "        output_file_name = store_path + aud.split('/')[-1].replace('.wav','_') +rev + '.wav'\n",
    "        \n",
    "        tfm.build_file(input_array = audio,\n",
    "                        sample_rate_in = sample_rate,\n",
    "                        output_filepath = output_file_name)\n",
    "        \n",
    "        # ess.MonoWriter(filename= './Reverbs/'+ audio_path.split('/')[-1].replace('.wav','_') +rev.replace('.wav','') + '.wav' , format='wav')(audio_convolved)"
   ]
  },
  {
   "cell_type": "markdown",
   "id": "e5bfbba6",
   "metadata": {},
   "source": [
    "# APPLY EFFECTS"
   ]
  },
  {
   "cell_type": "markdown",
   "id": "43dd4239",
   "metadata": {},
   "source": [
    "Chorus"
   ]
  },
  {
   "cell_type": "code",
   "execution_count": 28,
   "id": "31a3432e",
   "metadata": {},
   "outputs": [],
   "source": [
    "store_path = '/media/eduard/Maxtor/TFG_DATABASE_AUGMENTATION/Effects/'\n",
    "for aud in raw_audios:\n",
    "# Chorus\n",
    "    tfm = sox.Transformer()\n",
    "    tfm.set_globals(guard = True)\n",
    "    tfm.chorus()\n",
    "    output_file_name = store_path+ aud.split('/')[-1].replace('.wav','_')\n",
    "    tfm.build_file(aud, output_file_name +'Chorus'+ '.wav')\n",
    "\n",
    "# Flanger\n",
    "\n",
    "    tfm = sox.Transformer()\n",
    "    tfm.set_globals(guard = True)\n",
    "    tfm.flanger()\n",
    "\n",
    "    tfm.build_file(aud,output_file_name +'Flanger'+ '.wav')\n",
    "\n",
    "# Overdrive\n",
    "\n",
    "    tfm = sox.Transformer()\n",
    "    tfm.set_globals(guard = False)\n",
    "    tfm.overdrive()\n",
    "\n",
    "    tfm.build_file(aud,output_file_name +'OverDrive'+ '.wav')\n",
    "\n",
    "# Phaser\n",
    "\n",
    "    tfm = sox.Transformer()\n",
    "    tfm.set_globals(guard = True)\n",
    "    tfm.phaser()\n",
    "\n",
    "    tfm.build_file(aud,output_file_name +'Phaser'+ '.wav')"
   ]
  },
  {
   "cell_type": "markdown",
   "id": "3ccbf400",
   "metadata": {},
   "source": [
    "\n",
    "# APPLY FILTERS"
   ]
  },
  {
   "cell_type": "code",
   "execution_count": 27,
   "id": "90cf510e",
   "metadata": {},
   "outputs": [],
   "source": [
    "store_path = '/media/eduard/Maxtor/TFG_DATABASE_AUGMENTATION/Filters/'\n",
    "freq_h = [200,300,400,500]\n",
    "freq_l = [2000,2500,1000,500,300]\n",
    "boost = [-20,-10,0,10,20]\n",
    "for audio_path in raw_audios:\n",
    "    output_file = store_path+ audio_path.split('/')[-1].replace('.wav','_')\n",
    "# High pass\n",
    "    for f in freq_h:\n",
    "        tfm = sox.Transformer()\n",
    "        tfm.set_globals(guard = True)\n",
    "        tfm.highpass(frequency = f)\n",
    "        \n",
    "        \n",
    "        tfm.build_file(audio_path, output_file+'Hpass_'+str(f)+ '.wav')\n",
    "\n",
    "\n",
    "# Low pass\n",
    "    for f in freq_l:\n",
    "        tfm = sox.Transformer()\n",
    "        tfm.set_globals(guard = True)\n",
    "        tfm.lowpass(frequency = f)\n",
    "\n",
    "        tfm.build_file(audio_path, output_file +'Lpass_'+str(f)+ '.wav')\n",
    "\n",
    "\n",
    "# Treble\n",
    "    for b in boost:\n",
    "        tfm = sox.Transformer()\n",
    "        tfm.set_globals(guard = True)\n",
    "        tfm.treble(gain_db = b)\n",
    "\n",
    "        tfm.build_file(audio_path,output_file +'Treble_'+str(b)+ '.wav')\n",
    "# Bass\n",
    "    boost = [-20,20]\n",
    "    for b in boost:\n",
    "        tfm = sox.Transformer()\n",
    "        tfm.set_globals(guard = True)\n",
    "        tfm.bass(gain_db = b)\n",
    "\n",
    "        tfm.build_file(audio_path,output_file +'Bass_'+str(b)+ '.wav')\n",
    "    \n",
    "    \n"
   ]
  },
  {
   "cell_type": "markdown",
   "id": "e1f23e91",
   "metadata": {},
   "source": [
    "# APPLY GAUSSIAN RANDOM NOISE"
   ]
  },
  {
   "cell_type": "code",
   "execution_count": 68,
   "id": "29421cf6",
   "metadata": {},
   "outputs": [],
   "source": [
    "from audiomentations import Compose, AddGaussianNoise, TimeStretch, PitchShift, Shift\n",
    "import numpy as np\n",
    "\n",
    "NOISES = 5\n",
    "SAMPLE_RATE = 441000\n",
    "\n",
    "for n in range(0,NOISES):\n",
    "    augment = Compose([\n",
    "        AddGaussianNoise(min_amplitude=0.001, max_amplitude=0.015, p=0.1),])\n",
    "\n",
    "    # Augment/transform/perturb the audio data\n",
    "    augmented_samples = augment(samples=audio, sample_rate=SAMPLE_RATE)\n",
    "\n",
    "    ess.MonoWriter(filename= './Reverbs/'+ audio_path.split('/')[-1].replace('.wav','_')+'noise'+str(n)+'.wav', format='wav')(augmented_samples)"
   ]
  }
 ],
 "metadata": {
  "kernelspec": {
   "display_name": "Python 3",
   "language": "python",
   "name": "python3"
  },
  "language_info": {
   "codemirror_mode": {
    "name": "ipython",
    "version": 3
   },
   "file_extension": ".py",
   "mimetype": "text/x-python",
   "name": "python",
   "nbconvert_exporter": "python",
   "pygments_lexer": "ipython3",
   "version": "3.6.13"
  }
 },
 "nbformat": 4,
 "nbformat_minor": 5
}
