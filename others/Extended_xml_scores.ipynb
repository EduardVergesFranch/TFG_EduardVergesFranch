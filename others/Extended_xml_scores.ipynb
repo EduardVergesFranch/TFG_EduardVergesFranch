{
 "cells": [
  {
   "cell_type": "markdown",
   "metadata": {},
   "source": [
    "This scripts read the xml files from Trinity Pipeline and create the extended version where repetitions of the score are duplicated (written two times)"
   ]
  },
  {
   "cell_type": "code",
   "execution_count": 3,
   "metadata": {},
   "outputs": [],
   "source": [
    "import music21\n",
    "from music21 import converter,stream"
   ]
  },
  {
   "cell_type": "code",
   "execution_count": 18,
   "metadata": {},
   "outputs": [],
   "source": [
    "def safe_convert(score_file_path, forceSource=False):\n",
    "    try:\n",
    "        s = converter.parse(score_file_path, forceSource=forceSource)\n",
    "    except:\n",
    "        traceback.print_exc(file=sys.stdout)\n",
    "        print(\"-->Can't convert\", score_file_path, sys.exc_info()[0])\n",
    "        s = None\n",
    "    return s"
   ]
  },
  {
   "cell_type": "code",
   "execution_count": 19,
   "metadata": {},
   "outputs": [],
   "source": [
    "def safe_expand(stream):\n",
    "    try:\n",
    "        stream = stream.expandRepeats()\n",
    "    except:\n",
    "        print('-->Stream not containing repetitions')\n",
    "        return False\n",
    "    return stream\n",
    "def convert_to_xml(stream,out_file):\n",
    "    try:\n",
    "        stream.write(\"musicxml\", out_file)\n",
    "    except:\n",
    "        print('-->Error converting to .xml')"
   ]
  },
  {
   "cell_type": "code",
   "execution_count": 22,
   "metadata": {},
   "outputs": [],
   "source": [
    "score_xml = '/home/eduard/Escritorio/TrinityPipeline/RP/Guitar/Grade0/Edited/GTR Gr 0 Runaway Train.xml'\n",
    "xml_files = ['/home/eduard/Escritorio/TrinityPipeline/RP/Guitar/Grade0/Edited/GTR Gr 0 Hole In My Shoe TECH FOCUS.xml',\n",
    "         '/home/eduard/Escritorio/TrinityPipeline/RP/Guitar/Grade0/Edited/GTR Gr 0 Lily Was Here.xml',\n",
    "         '/home/eduard/Escritorio/TrinityPipeline/RP/Guitar/Grade0/Edited/GTR Gr 0 Mountain At My Gates.xml',\n",
    "         '/home/eduard/Escritorio/TrinityPipeline/RP/Guitar/Grade0/Edited/GTR Gr 0 Where Did You Sleep Last Night.xml',\n",
    "         '/home/eduard/Escritorio/TrinityPipeline/RP/Guitar/Grade0/Edited/GTR Gr 0 Wicked Game.xml',\n",
    "         '/home/eduard/Escritorio/TrinityPipeline/RP/Guitar/Grade0/Edited/GTR Gr 0 20th Century Boy TECH FOCUS.xml',\n",
    "         '/home/eduard/Escritorio/TrinityPipeline/RP/Guitar/Grade0/Edited/GTR Gr 0 Runaway Train.xml']"
   ]
  },
  {
   "cell_type": "code",
   "execution_count": 23,
   "metadata": {},
   "outputs": [
    {
     "name": "stdout",
     "output_type": "stream",
     "text": [
      "Processing: GTR Gr 0 Hole In My Shoe TECH FOCUS.xml\n",
      "-->Stream not containing repetitions\n",
      "Processing: GTR Gr 0 Lily Was Here.xml\n",
      "Processing: GTR Gr 0 Mountain At My Gates.xml\n",
      "Processing: GTR Gr 0 Where Did You Sleep Last Night.xml\n",
      "Processing: GTR Gr 0 Wicked Game.xml\n",
      "Processing: GTR Gr 0 20th Century Boy TECH FOCUS.xml\n",
      "Processing: GTR Gr 0 Runaway Train.xml\n",
      "-->Stream not containing repetitions\n"
     ]
    }
   ],
   "source": [
    "out_path = '/home/eduard/Escritorio/TFG_EduardVergesFranch/test_data/xml_extended/'\n",
    "for file in xml_files:\n",
    "    out_filename = out_path + file.split('/')[-1]\n",
    "    print('Processing: {}'.format(file.split('/')[-1]))\n",
    "    s = safe_convert(file,forceSource=True)\n",
    "    s = safe_expand(s)\n",
    "    if s:\n",
    "        convert_to_xml(s,out_filename)"
   ]
  },
  {
   "cell_type": "code",
   "execution_count": 14,
   "metadata": {},
   "outputs": [],
   "source": [
    "score_xml = '/home/eduard/Escritorio/TrinityPipeline/RP/Guitar/Grade0/Edited/GTR Gr 0 Lily Was Here.xml'\n",
    "out_filename = '/home/eduard/Escritorio/TFG_EduardVergesFranch/test_data/xml_extended/out_test.xml'"
   ]
  },
  {
   "cell_type": "code",
   "execution_count": 15,
   "metadata": {},
   "outputs": [],
   "source": [
    "s = safe_convert_and_expand(score_xml,forceSource=True)\n",
    "s = safe_expand(s)\n",
    "convert_to_xml(s,out_filename)"
   ]
  },
  {
   "cell_type": "markdown",
   "metadata": {},
   "source": [
    "# Check extended version"
   ]
  },
  {
   "cell_type": "code",
   "execution_count": 16,
   "metadata": {},
   "outputs": [],
   "source": [
    "s = '/home/eduard/Escritorio/TrinityPipeline/RP/Guitar/Grade0/Edited/GTR Gr 0 Lily Was Here.xml'\n",
    "s1 ='/home/eduard/Escritorio/TFG_EduardVergesFranch/test_data/xml_extended/out_test.xml'"
   ]
  },
  {
   "cell_type": "code",
   "execution_count": 17,
   "metadata": {},
   "outputs": [],
   "source": [
    "s = safe_convert(s, forceSource=False)\n",
    "s1 = safe_convert(s1, forceSource=False)"
   ]
  },
  {
   "cell_type": "code",
   "execution_count": 21,
   "metadata": {},
   "outputs": [
    {
     "name": "stdout",
     "output_type": "stream",
     "text": [
      "Score part: <music21.stream.Part Acoustic Guitar>\n",
      "Score part: <music21.stream.Part Electric Guitar>\n",
      "Score part: <music21.stream.Part Acoustic Guitar>\n",
      "Score part: <music21.stream.Part Electric Guitar>\n",
      "###\n",
      "Score part: <music21.stream.Part Acoustic Guitar>\n",
      "Score part: <music21.stream.Part Electric Guitar>\n",
      "Score part: <music21.stream.Part Acoustic Guitar>\n",
      "Score part: <music21.stream.Part Electric Guitar>\n"
     ]
    }
   ],
   "source": [
    "for part in s.getElementsByClass(stream.Part):\n",
    "    print('Score part: {}'.format(part))\n",
    "    \n",
    "for part in s.parts:\n",
    "    print('Score part: {}'.format(part))\n",
    "print('###')\n",
    "for part in s1.getElementsByClass(stream.Part):\n",
    "    print('Score part: {}'.format(part))\n",
    "    \n",
    "for part in s1.parts:\n",
    "    print('Score part: {}'.format(part))"
   ]
  },
  {
   "cell_type": "code",
   "execution_count": 25,
   "metadata": {},
   "outputs": [
    {
     "data": {
      "text/plain": [
       "28"
      ]
     },
     "execution_count": 25,
     "metadata": {},
     "output_type": "execute_result"
    }
   ],
   "source": [
    "part = s.parts['Acoustic Guitar']\n",
    "\n",
    "measures = part.getElementsByClass(stream.Measure)\n",
    "len(measures)"
   ]
  },
  {
   "cell_type": "code",
   "execution_count": 26,
   "metadata": {},
   "outputs": [
    {
     "data": {
      "text/plain": [
       "36"
      ]
     },
     "execution_count": 26,
     "metadata": {},
     "output_type": "execute_result"
    }
   ],
   "source": [
    "part = s1.parts['Acoustic Guitar']\n",
    "\n",
    "measures = part.getElementsByClass(stream.Measure)\n",
    "len(measures)"
   ]
  }
 ],
 "metadata": {
  "kernelspec": {
   "display_name": "Python 3.6.8 64-bit ('simmusic': conda)",
   "language": "python",
   "name": "python36864bitsimmusicconda80a6b826c14a42388df8af3b62b964c2"
  },
  "language_info": {
   "codemirror_mode": {
    "name": "ipython",
    "version": 3
   },
   "file_extension": ".py",
   "mimetype": "text/x-python",
   "name": "python",
   "nbconvert_exporter": "python",
   "pygments_lexer": "ipython3",
   "version": "3.6.8"
  }
 },
 "nbformat": 4,
 "nbformat_minor": 5
}
