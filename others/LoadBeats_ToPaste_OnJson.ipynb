{
 "cells": [
  {
   "cell_type": "code",
   "execution_count": 1,
   "metadata": {},
   "outputs": [],
   "source": [
    "import pandas as pd\n",
    "import numpy as np"
   ]
  },
  {
   "cell_type": "code",
   "execution_count": 2,
   "metadata": {},
   "outputs": [],
   "source": [
    "beats_file = '/home/eduard/Escritorio/TFG_EduardVergesFranch/test_data/Where Did You Sleep Last Night/click.txt'"
   ]
  },
  {
   "cell_type": "markdown",
   "metadata": {},
   "source": [
    "**Read beats separated with , stored in txt file**\n",
    "Print them ready to be pasted in .json files"
   ]
  },
  {
   "cell_type": "code",
   "execution_count": 3,
   "metadata": {},
   "outputs": [],
   "source": [
    "beats = []\n",
    "with open(beats_file,'r') as f:\n",
    "    for line in f:\n",
    "        beats.append(line.split('\\n')[0])"
   ]
  },
  {
   "cell_type": "code",
   "execution_count": 4,
   "metadata": {},
   "outputs": [
    {
     "data": {
      "text/plain": [
       "'4.200000000,4.800000000,5.400000000,6.000000000,6.600000000,7.200000000,7.800000000,8.400000000,9.000000000,9.600000000,10.200000000,10.800000000,11.400000000,12.000000000,12.600000000,13.200000000,13.800000000,14.400000000,15.000000000,15.600000000,16.200000000,16.800000000,17.400000000,18.000000000,18.600000000,19.200000000,19.800000000,20.400000000,21.000000000,21.600000000,22.200000000,22.800000000,23.400000000,24.000000000,24.600000000,25.200000000,25.800000000,26.400000000,27.000000000,27.600000000,28.200000000,28.800000000,29.400000000,30.000000000,30.600000000,31.200000000,31.800000000,32.400000000,33.000000000,33.600000000,34.200000000,34.800000000,35.400000000,36.000000000,36.600000000,37.200000000,37.800000000,38.400000000,39.000000000,39.600000000,40.200000000,40.800000000,41.400000000,42.000000000,42.600000000,43.200000000,43.800000000,44.400000000,45.000000000,45.600000000,46.200000000,46.800000000,47.400000000,48.000000000,48.600000000,49.200000000,49.800000000,50.400000000,51.000000000,51.600000000,52.200000000,52.800000000,53.400000000,54.000000000,54.600000000,55.200000000,55.800000000,56.400000000,57.000000000,57.600000000,58.200000000,58.800000000,59.400000000,60.000000000,60.600000000,61.200000000,61.800000000,62.400000000,63.000000000,63.600000000,64.200000000,64.800000000,65.400000000,66.000000000,66.600000000,67.200000000,67.800000000,68.400000000,69.000000000,69.600000000,70.200000000,70.800000000,71.400000000,72.000000000,72.600000000,73.200000000,73.800000000,74.400000000,75.000000000,75.600000000,76.200000000,76.800000000,77.400000000,78.000000000,78.600000000,79.200000000,79.800000000,80.400000000,81.000000000,81.600000000,82.200000000,82.800000000,83.400000000,84.000000000,84.600000000,85.200000000,85.800000000,86.400000000,87.000000000,87.600000000,88.200000000,88.800000000,89.400000000,90.000000000,90.600000000,91.200000000,91.800000000,92.400000000,93.000000000,93.600000000,94.200000000,94.800000000,95.400000000,96.000000000,96.600000000,97.200000000,97.800000000,98.400000000,99.000000000,99.600000000,100.200000000,100.800000000,101.400000000,102.000000000,102.600000000,103.200000000,103.800000000,104.400000000,104.990000000,105.650000000,106.280000000'"
      ]
     },
     "execution_count": 4,
     "metadata": {},
     "output_type": "execute_result"
    }
   ],
   "source": [
    "','.join(beats)"
   ]
  },
  {
   "cell_type": "markdown",
   "metadata": {},
   "source": [
    "If beats in csv file"
   ]
  },
  {
   "cell_type": "code",
   "execution_count": 39,
   "metadata": {
    "scrolled": false
   },
   "outputs": [
    {
     "data": {
      "text/plain": [
       "'4.821043,5.355102,5.889161,6.4,6.934059,7.468118,7.980408,8.53551,9.070862,9.551678,10.08932,10.64644,11.18034,11.70263,12.248141,12.770431,13.304331,13.861451,14.383741,14.929229,15.451542,15.98542,16.53093,17.05322,17.58712,18.13263,18.666531,19.188821,19.745941,20.268231,20.825329,21.359229,21.881519,22.427029,22.94932,23.48322,24.02873,24.56263,25.084921,25.642041,26.175941,26.698231,27.208912,27.742812,28.311519,28.84542,29.36771,29.92483,30.44712,30.96941,31.538141,32.060431,32.582721,33.139841,33.662132,34.207619,34.729932,35.26381,35.80932,36.34322,36.86551,37.42263,37.944921,38.467211,39.06322,39.566803,40.080522,40.602812,41.125102,41.70542,42.22771,42.75,43.30712,43.84102,44.363311,44.920431,45.442721,45.976621,46.510522,47.044422,47.613129,48.13542,48.66932,49.20322,49.72551,50.2478,50.793311,51.376916,51.899206,52.456327,52.978617,53.500907,54.064762,54.604512,55.128866,55.653878,56.203175,56.742313,57.265624,57.777574,58.323651,58.846961,59.4322,59.980045,60.477551,61.03381,61.566871,62.088345,62.632993,63.166054,63.687528,64.220612,64.753673,65.275147,65.831383,66.352857,66.909093,67.430567,67.963628,68.508277,69.041361,69.562834,70.11907,70.640544,71.173605,71.718277,72.239751,72.761224,73.324263,73.804172,74.39517,74.916644,75.449705,76.001814,76.481066,77.014127,77.605147,78.126621,78.659683,79.204331,79.725828,80.282041,80.838095,81.371429,81.941043'"
      ]
     },
     "execution_count": 39,
     "metadata": {},
     "output_type": "execute_result"
    }
   ],
   "source": [
    "beats = pd.read_csv(beats_file,header = None)\n",
    "beat_array = []\n",
    "for beat in beats.iterrows():\n",
    "    beat_array.append(str(np.round(beat[1][0],6)))\n",
    "    \n",
    "','.join(list(beat_array))"
   ]
  },
  {
   "cell_type": "markdown",
   "metadata": {},
   "source": [
    "**Checking json files**"
   ]
  },
  {
   "cell_type": "code",
   "execution_count": 14,
   "metadata": {},
   "outputs": [],
   "source": [
    "import sys\n",
    "sys.path.append('/home/eduard/Escritorio/TFG_EduardVergesFranch/test_code/')"
   ]
  },
  {
   "cell_type": "code",
   "execution_count": 15,
   "metadata": {},
   "outputs": [],
   "source": [
    "from test_utils.training_individual_chord_model import *\n",
    "from test_utils.test_functionality import GenericWorkflow"
   ]
  },
  {
   "cell_type": "code",
   "execution_count": 25,
   "metadata": {},
   "outputs": [],
   "source": [
    "from pychord_tools.models import load_model\n",
    "import simmusic\n",
    "import os\n",
    "import essentia.standard  as ess"
   ]
  },
  {
   "cell_type": "code",
   "execution_count": 26,
   "metadata": {},
   "outputs": [
    {
     "name": "stdout",
     "output_type": "stream",
     "text": [
      "Loading -----> /home/eduard/anaconda3/envs/simmusic/lib/python3.6/site-packages/simmusic-0.4b0-py3.6-linux-x86_64.egg/simmusic/extractors/guitar_models/picking_workflow.pkl\n"
     ]
    },
    {
     "name": "stderr",
     "output_type": "stream",
     "text": [
      "/home/eduard/anaconda3/envs/simmusic/lib/python3.6/site-packages/sklearn/base.py:306: UserWarning: Trying to unpickle estimator LogisticRegression from version 0.20.3 when using version 0.21.2. This might lead to breaking code or invalid results. Use at your own risk.\n",
      "  UserWarning)\n"
     ]
    }
   ],
   "source": [
    "assessment_workflow = load_model(os.path.join(simmusic.__path__[0], 'extractors/guitar_models/picking_workflow.pkl'))\n",
    "hacked_workflow = GenericWorkflow(\n",
    "    assessment_workflow.tuning_estimator,\n",
    "    assessment_workflow.rhythm_estimator,\n",
    "    assessment_workflow.chroma_estimator,\n",
    "    assessment_workflow.overall_estimator,\n",
    "    assessment_workflow.tuning_feature_names,\n",
    "    assessment_workflow.timing_feature_names,\n",
    "    assessment_workflow.chroma_feature_names,\n",
    "    onset_series_delta=0.22)"
   ]
  },
  {
   "cell_type": "code",
   "execution_count": 73,
   "metadata": {},
   "outputs": [],
   "source": [
    "audio = ess.MonoLoader(filename='/home/eduard/Escritorio/TFG_EduardVergesFranch/test_data/Mountain At My Gates/3_gtrX_Mountain At My Gates_Foals_Gtr Gr0.wav')()\n",
    "frames = int(0  * 44100)\n",
    "audio = audio[frames:]\n",
    "audio_file_name = 'test.wav'\n",
    "ess.MonoWriter(filename=audio_file_name, format='wav')(audio)"
   ]
  },
  {
   "cell_type": "code",
   "execution_count": 88,
   "metadata": {},
   "outputs": [
    {
     "name": "stdout",
     "output_type": "stream",
     "text": [
      "Loading -----> /home/eduard/Escritorio/TFG_EduardVergesFranch/test_code/test_utils/models/new_model.pkl\n",
      "[F:1 F:1 F:1 F:1 E:1 E:1 E:5 E:1 D:1 D:1 D:1 D:1 D:1 E:1 E:1 F:1 F:1 F:1\n",
      " F:1 E:1 E:1 E:1 E:1 D:1 D:1 D:1 D:1 Bb:1 Bb:1 Bb:1 F:1 F:1 F:1 F:1 E:1\n",
      " E:1 E:5 E:1 D:1 D:1 D:1 D:1 D:1 E:1 E:1 F:1 F:1 F:1 F:1 E:1 E:1 E:1 E:1\n",
      " D:1 D:1 D:1 D:1 Bb:1 Bb:1 Bb:1 F:1 F:1 F:1 F:1 E:1 E:1 E:1 E:1 D:1 D:1\n",
      " D:1 D:1 E:1 E:1 E:1 F:1 F:1 F:1 F:1 E:1 E:1 E:1 E:1 D:1 D:1 D:1 D:1 Bb:1\n",
      " Bb:1 Bb:maj F:1 F:1 F:1 F:1 F:1 F:1 F:1 F:1 F:1 D:min D:1 F:1 F:1 F:1 F:1\n",
      " F:1 D:min C:maj Bb:1 C:1 D:1 E:1 D:min C:maj Bb:1 C:1 D:1 E:1 F:1 D:min\n",
      " F:1 D:1 D:1 F:1 D:1 D:1 F:1 F:1 F:1 F:1 E:1 E:1 E:1 E:1 D:1 D:1 D:1 D:1\n",
      " D:1 E:1 E:1 F:1 F:1 F:1 F:1 E:1 E:1 E:1 E:1 D:1 D:1 D:1 D:1 Bb:1 Bb:1\n",
      " Bb:1 F:1 F:1 F:1 F:1 E:1 E:1 E:1 E:1 D:1 D:1 D:1 D:1 D:1 E:1 E:1 F:1 F:1\n",
      " F:1 F:1 E:1 E:1 E:1 E:1 D:1 D:1 D:1 D:1 Bb:1 Bb:1 D:1 D:min]\n"
     ]
    }
   ],
   "source": [
    "anno_file = '/home/eduard/Escritorio/TFG_EduardVergesFranch/test_data/Mountain At My Gates/Mountain At My Gates.json'\n",
    "\n",
    "res = hacked_workflow.chroma_scores(anno_file, audio_file_name)"
   ]
  },
  {
   "cell_type": "code",
   "execution_count": 90,
   "metadata": {},
   "outputs": [
    {
     "name": "stdout",
     "output_type": "stream",
     "text": [
      "Notes detected: 187\n"
     ]
    }
   ],
   "source": [
    "print('Notes detected: {}'.format(len(res)))"
   ]
  },
  {
   "cell_type": "code",
   "execution_count": 76,
   "metadata": {},
   "outputs": [],
   "source": [
    "chords = [\n",
    "    \"|N::8 F:(1):8 F:(1):8 F:(1):8 F:(1):8 E:(1):8 E:(1):8 E:(1):8 |E:(1):8 D:(1):8 D:(1):8 D:(1):8 D:(1):8 D:(1):8 E:(1):8 E:(1):8 |N::8 F:(1):8 F:(1):8 F:(1):8 F:(1):8 E:(1):8 E:(1):8 E:(1):8 |E:(1):8 D:(1):8 D:(1):8 D:(1):8 D:(1):8 Bb:(1):8 Bb:(1):8 Bb:(1):8 |\",\n",
    "\n",
    "    \"|N::8 F:(1):8 F:(1):8 F:(1):8 F:(1):8 E:(1):8 E:(1):8 E:(1):8 |E:(1):8 D:(1):8 D:(1):8 D:(1):8 D:(1):8 D:(1):8 E:(1):8 E:(1):8 |N::8 F:(1):8 F:(1):8 F:(1):8 F:(1):8 E:(1):8 E:(1):8 E:(1):8 |E:(1):8 D:(1):8 D:(1):8 D:(1):8 D:(1):8 Bb:(1):8 Bb:(1):8 Bb:(1):8 |\",\n",
    "    \"|N::8 F:(1):8 F:(1):8 F:(1):8 F:(1):8 E:(1):8 E:(1):8 E:(1):8 |E:(1):8 D:(1):8 D:(1):8 D:(1):8 D:(1):8 D:(1):8 E:(1):8 E:(1):8 |N::8 F:(1):8 F:(1):8 F:(1):8 F:(1):8 E:(1):8 E:(1):8 E:(1):8 |E:(1):8 D:(1):8 D:(1):8 D:(1):8 D:(1):8 Bb:(1):8 Bb:(1):8 Bb:(1):8 |\",\n",
    "\n",
    "    \"|Bb:(3,5):8 Bb:(3,5):8 Bb:(3,5):8 Bb:(3,5):8 Bb:(3,5):8 Bb:(3,5):8 Bb:(3,5):8 Bb:(3,5):8 |D:(b3):8 D:(b3):8 D:(b3):8 D:(b3):8 D:(b3):8 D:(b3):8 D:(b3):8 D:(b3):8 |C:(3):8 C:(3):8 C:(3):8 C:(3):8 C:(3):8 C:(3):8 C:(3):8 C:(3):8 |G:(3):8 G:(3):8 G:(3):8 G:(3):8 G:(3):8 G:(3):8 G:(3):8 G:(3):8 |\",\n",
    "    \"|Bb:(3,5):8 Bb:(3,5):8 Bb:(3,5):8 Bb:(3,5):8 Bb:(3,5):8 Bb:(3,5):8 Bb:(3,5):8 Bb:(3,5):8 |D:(b3):8 D:(b3):8 D:(b3):8 D:(b3):8 D:(b3):8 D:(b3):8 D:(b3):8 D:(b3):8 |C:(3):8 C:(3):8 C:(3):8 C:(3):8 C:(3):8 C:(3):8 C:(3):8 C:(3):8 |G:(3):8 G:(3):8 G:(3):8 G:(3):8 G:(3):8 G:(3):8 G:(3):8 G:(3):8 |\",\n",
    "\n",
    "    \"|D:min:2 C:maj:2 |Bb:(1):4 C:(1):4 D:(1):4 E:(1):4 |D:min:2 C:maj:2 |Bb:(1):4 C:(1):4 D:(1):4 E:(1):4 |\",\n",
    "    \"|D:(b3):4 D:(b3):4 C:(3):4 C:(3):4 |Bb:(3,5):4 Bb:(3,5):4 Bb:(3,5):4 Bb:(3,5):4 |D:(b3):4 D:(b3):4 C:(3):4 C:(3):4 |Bb:(3,5):4 Bb:(3,5):4 Bb:(3,5):4 Bb:(3,5):4 |\",\n",
    "\n",
    "    \"|N::8 F:(1):8 F:(1):8 F:(1):8 F:(1):8 E:(1):8 E:(1):8 E:(1):8 |E:(1):8 D:(1):8 D:(1):8 D:(1):8 D:(1):8 D:(1):8 E:(1):8 E:(1):8 |N::8 F:(1):8 F:(1):8 F:(1):8 F:(1):8 E:(1):8 E:(1):8 E:(1):8 |E:(1):8 D:(1):8 D:(1):8 D:(1):8 D:(1):8 Bb:(1):8 Bb:(1):8 Bb:(1):8 |\",\n",
    "    \"|N::8 F:(1):8 F:(1):8 F:(1):8 F:(1):8 E:(1):8 E:(1):8 E:(1):8 |E:(1):8 D:(1):8 D:(1):8 D:(1):8 D:(1):8 D:(1):8 E:(1):8 E:(1):8 |N::8 F:(1):8 F:(1):8 F:(1):8 F:(1):8 E:(1):8 E:(1):8 E:(1):8 |E:(1):8 D:(1):8 D:(1):8 D:(1):8 D:(1):8 Bb:(1):8 Bb:(1):8 Bb:(1):8 |\",\n",
    "\n",
    "    \"|D:min:1 |\"\n",
    "   ]"
   ]
  },
  {
   "cell_type": "code",
   "execution_count": 77,
   "metadata": {},
   "outputs": [
    {
     "name": "stdout",
     "output_type": "stream",
     "text": [
      "Num of chords: 243\n"
     ]
    }
   ],
   "source": [
    "chords_list = []\n",
    "for c in chords:\n",
    "    for i in c.split(' '):\n",
    "        if not ('X' in i) :\n",
    "            if not('N:' in i):\n",
    "                if not('|' == i):\n",
    "                    chords_list.append(i)\n",
    "print('Num of chords: {}'.format(len(chords_list)))"
   ]
  },
  {
   "cell_type": "code",
   "execution_count": 51,
   "metadata": {
    "collapsed": true
   },
   "outputs": [
    {
     "data": {
      "text/plain": [
       "['|A:(1):2',\n",
       " 'A:(1):4',\n",
       " '|E:(1):2',\n",
       " 'E:(1):4',\n",
       " '|D:(1):2',\n",
       " 'E:(1):4',\n",
       " '|C:(1):2',\n",
       " 'D:(1):4',\n",
       " '|E:(1):2',\n",
       " 'D:(1):4',\n",
       " '|C:(1):2',\n",
       " 'B:(1):4',\n",
       " 'A:(1):2',\n",
       " '|A:(1,5):2',\n",
       " 'A:(1,5):4',\n",
       " '|A:(1,5):2',\n",
       " '|D:maj:2',\n",
       " '|C:maj:2',\n",
       " '|E:maj:2',\n",
       " '|A:(1,5):2',\n",
       " 'A:(1,5):4',\n",
       " '|A:(1,5):2',\n",
       " '|A:(1,5):2',\n",
       " 'A:(1,5):4',\n",
       " '|A:(1,5):2',\n",
       " '|D:maj:2',\n",
       " '|C:maj:2',\n",
       " '|E:maj:2',\n",
       " '|A:(1,5):2',\n",
       " 'A:(1,5):4',\n",
       " '|A:(1,5):2',\n",
       " '|A:(1):2',\n",
       " 'A:(1):4',\n",
       " '|E:(1):2',\n",
       " 'E:(1):4',\n",
       " '|D:(1):2',\n",
       " 'E:(1):4',\n",
       " '|C:(1):2',\n",
       " 'D:(1):4',\n",
       " '|E:(1):2',\n",
       " 'D:(1):4',\n",
       " '|C:(1):2',\n",
       " 'B:(1):4',\n",
       " 'A:(1):2',\n",
       " '|A:min:4',\n",
       " 'A:min:4',\n",
       " 'A:min:4|A:min:2',\n",
       " '|D:maj:2',\n",
       " '|C:maj:2',\n",
       " '|E:maj:2',\n",
       " 'E:maj:4',\n",
       " '|E:maj:2',\n",
       " '|A:min:4',\n",
       " 'A:min:4',\n",
       " 'A:min:4',\n",
       " '|A:min:2',\n",
       " '|A:min:4',\n",
       " 'A:min:4',\n",
       " 'A:min:4|A:min:2',\n",
       " '|D:maj:2',\n",
       " '|C:maj:2',\n",
       " '|E:maj:2',\n",
       " 'E:maj:4',\n",
       " '|E:maj:2',\n",
       " '|A:min:4',\n",
       " 'A:min:4',\n",
       " 'A:min:4',\n",
       " '|A:min:2',\n",
       " '|A:(1):2',\n",
       " 'A:(1):4',\n",
       " '|E:(1):2',\n",
       " 'E:(1):4',\n",
       " '|D:(1):2',\n",
       " 'E:(1):4',\n",
       " '|C:(1):2',\n",
       " 'D:(1):4',\n",
       " '|E:(1):2',\n",
       " 'D:(1):4',\n",
       " '|C:(1):2',\n",
       " 'B:(1):4',\n",
       " 'A:(1):2']"
      ]
     },
     "execution_count": 51,
     "metadata": {},
     "output_type": "execute_result"
    }
   ],
   "source": [
    "chords_list"
   ]
  }
 ],
 "metadata": {
  "kernelspec": {
   "display_name": "Python 3.6.8 64-bit ('simmusic': conda)",
   "language": "python",
   "name": "python36864bitsimmusicconda80a6b826c14a42388df8af3b62b964c2"
  },
  "language_info": {
   "codemirror_mode": {
    "name": "ipython",
    "version": 3
   },
   "file_extension": ".py",
   "mimetype": "text/x-python",
   "name": "python",
   "nbconvert_exporter": "python",
   "pygments_lexer": "ipython3",
   "version": "3.6.8"
  }
 },
 "nbformat": 4,
 "nbformat_minor": 4
}
