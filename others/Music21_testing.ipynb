{
 "cells": [
  {
   "cell_type": "code",
   "execution_count": 3,
   "metadata": {},
   "outputs": [],
   "source": [
    "from music21 import *"
   ]
  },
  {
   "cell_type": "markdown",
   "metadata": {},
   "source": [
    "## Music 21 stream"
   ]
  },
  {
   "cell_type": "code",
   "execution_count": 8,
   "metadata": {},
   "outputs": [
    {
     "name": "stdout",
     "output_type": "stream",
     "text": [
      "Variable s1 is: <class 'music21.stream.Stream'>\n"
     ]
    }
   ],
   "source": [
    "s1 = stream.Stream()\n",
    "print('Variable s1 is: {}'.format(type(s1)))\n",
    "\n",
    "s1.append(note.Note('C#4', type='half'))\n",
    "s1.append(note.Note('D5', type='quarter'))\n",
    "s1.duration.quarterLength\n",
    "\n",
    "for thisNote in s1.notes:#print the notes inside the container\n",
    "    print(thisNote)"
   ]
  },
  {
   "cell_type": "code",
   "execution_count": 11,
   "metadata": {
    "scrolled": true
   },
   "outputs": [
    {
     "name": "stdout",
     "output_type": "stream",
     "text": [
      "{0.0} <music21.note.Note C#>\n",
      "{2.0} <music21.note.Note D>\n"
     ]
    }
   ],
   "source": [
    "s1.show('text')"
   ]
  },
  {
   "cell_type": "markdown",
   "metadata": {},
   "source": [
    "## MUSIC 21 stream.score object"
   ]
  },
  {
   "cell_type": "code",
   "execution_count": 13,
   "metadata": {},
   "outputs": [],
   "source": [
    "score_xml = '/home/eduard/Escritorio/TrinityPipeline/RP/Guitar/Grade0/Edited/GTR Gr 0 Runaway Train.xml'\n",
    "s = converter.parse(score_xml, forceSource=False) #load from xml to stream.score object"
   ]
  },
  {
   "cell_type": "markdown",
   "metadata": {},
   "source": [
    "### Obtain parts from score"
   ]
  },
  {
   "cell_type": "code",
   "execution_count": 17,
   "metadata": {
    "scrolled": true
   },
   "outputs": [
    {
     "data": {
      "text/plain": [
       "<music21.stream.iterator.StreamIterator for Score:0x7f438baf12b0 @:0>"
      ]
     },
     "execution_count": 17,
     "metadata": {},
     "output_type": "execute_result"
    }
   ],
   "source": [
    "s.parts"
   ]
  },
  {
   "cell_type": "code",
   "execution_count": 26,
   "metadata": {
    "scrolled": true
   },
   "outputs": [
    {
     "name": "stdout",
     "output_type": "stream",
     "text": [
      "Score object classes: ('Score', 'Stream', 'StreamCoreMixin', 'Music21Object', 'object')\n",
      "Score object elements; (<music21.stream.Part Acoustic Guitar>, <music21.stream.Part Electric Guitar>)\n"
     ]
    }
   ],
   "source": [
    "partStream = s.parts.stream()\n",
    "print('Score object classes: {}'.format(partStream.classes))\n",
    "print('Score object elements; {}'.format(partStream.elements))"
   ]
  },
  {
   "cell_type": "code",
   "execution_count": 29,
   "metadata": {},
   "outputs": [
    {
     "name": "stdout",
     "output_type": "stream",
     "text": [
      "Score part: <music21.stream.Part Acoustic Guitar>\n",
      "Score part: <music21.stream.Part Electric Guitar>\n",
      "Score part: <music21.stream.Part Acoustic Guitar>\n",
      "Score part: <music21.stream.Part Electric Guitar>\n"
     ]
    }
   ],
   "source": [
    "#Get Acoustic Guitar part\n",
    "for part in s.getElementsByClass(stream.Part):\n",
    "    print('Score part: {}'.format(part))\n",
    "    \n",
    "for part in s.parts:\n",
    "    print('Score part: {}'.format(part))"
   ]
  },
  {
   "cell_type": "code",
   "execution_count": 30,
   "metadata": {},
   "outputs": [
    {
     "data": {
      "text/plain": [
       "<music21.stream.Part Acoustic Guitar>"
      ]
     },
     "execution_count": 30,
     "metadata": {},
     "output_type": "execute_result"
    }
   ],
   "source": [
    "s.parts['Acoustic Guitar']"
   ]
  },
  {
   "cell_type": "code",
   "execution_count": 32,
   "metadata": {},
   "outputs": [
    {
     "name": "stdout",
     "output_type": "stream",
     "text": [
      "Id: Acoustic Guitar\n",
      "Id: Electric Guitar\n"
     ]
    }
   ],
   "source": [
    "for p in s.parts:\n",
    "    print('Id: {}'.format(p.id))"
   ]
  },
  {
   "cell_type": "markdown",
   "metadata": {},
   "source": [
    "### Get measures (Compassos)"
   ]
  },
  {
   "cell_type": "code",
   "execution_count": 34,
   "metadata": {},
   "outputs": [],
   "source": [
    "part = s.parts['Acoustic Guitar']"
   ]
  },
  {
   "cell_type": "code",
   "execution_count": 79,
   "metadata": {
    "collapsed": true
   },
   "outputs": [
    {
     "name": "stdout",
     "output_type": "stream",
     "text": [
      "Measure: <music21.stream.Measure 1 offset=0.0>\n",
      "--->Duration: <music21.duration.Duration 4.0>\n",
      "Measure: <music21.stream.Measure 2 offset=4.0>\n",
      "--->Duration: <music21.duration.Duration 4.0>\n",
      "Measure: <music21.stream.Measure 3 offset=8.0>\n",
      "--->Duration: <music21.duration.Duration 4.0>\n",
      "Measure: <music21.stream.Measure 4 offset=12.0>\n",
      "--->Duration: <music21.duration.Duration 4.0>\n",
      "Measure: <music21.stream.Measure 5 offset=16.0>\n",
      "--->Duration: <music21.duration.Duration 4.0>\n",
      "Measure: <music21.stream.Measure 6 offset=20.0>\n",
      "--->Duration: <music21.duration.Duration 4.0>\n",
      "Measure: <music21.stream.Measure 7 offset=24.0>\n",
      "--->Duration: <music21.duration.Duration 4.0>\n",
      "Measure: <music21.stream.Measure 8 offset=28.0>\n",
      "--->Duration: <music21.duration.Duration 4.0>\n",
      "Measure: <music21.stream.Measure 9 offset=32.0>\n",
      "--->Duration: <music21.duration.Duration 4.0>\n",
      "Measure: <music21.stream.Measure 10 offset=36.0>\n",
      "--->Duration: <music21.duration.Duration 4.0>\n",
      "Measure: <music21.stream.Measure 11 offset=40.0>\n",
      "--->Duration: <music21.duration.Duration 4.0>\n",
      "Measure: <music21.stream.Measure 12 offset=44.0>\n",
      "--->Duration: <music21.duration.Duration 4.0>\n",
      "Measure: <music21.stream.Measure 13 offset=48.0>\n",
      "--->Duration: <music21.duration.Duration 4.0>\n",
      "Measure: <music21.stream.Measure 14 offset=52.0>\n",
      "--->Duration: <music21.duration.Duration 4.0>\n",
      "Measure: <music21.stream.Measure 15 offset=56.0>\n",
      "--->Duration: <music21.duration.Duration 4.0>\n",
      "Measure: <music21.stream.Measure 16 offset=60.0>\n",
      "--->Duration: <music21.duration.Duration 4.0>\n",
      "Measure: <music21.stream.Measure 17 offset=64.0>\n",
      "--->Duration: <music21.duration.Duration 4.0>\n",
      "Measure: <music21.stream.Measure 18 offset=68.0>\n",
      "--->Duration: <music21.duration.Duration 4.0>\n",
      "Measure: <music21.stream.Measure 19 offset=72.0>\n",
      "--->Duration: <music21.duration.Duration 4.0>\n",
      "Measure: <music21.stream.Measure 20 offset=76.0>\n",
      "--->Duration: <music21.duration.Duration 4.0>\n",
      "Measure: <music21.stream.Measure 21 offset=80.0>\n",
      "--->Duration: <music21.duration.Duration 4.0>\n",
      "Measure: <music21.stream.Measure 22 offset=84.0>\n",
      "--->Duration: <music21.duration.Duration 4.0>\n",
      "Measure: <music21.stream.Measure 23 offset=88.0>\n",
      "--->Duration: <music21.duration.Duration 4.0>\n",
      "Measure: <music21.stream.Measure 24 offset=92.0>\n",
      "--->Duration: <music21.duration.Duration 4.0>\n",
      "Measure: <music21.stream.Measure 25 offset=96.0>\n",
      "--->Duration: <music21.duration.Duration 4.0>\n",
      "Measure: <music21.stream.Measure 26 offset=100.0>\n",
      "--->Duration: <music21.duration.Duration 4.0>\n",
      "Measure: <music21.stream.Measure 27 offset=104.0>\n",
      "--->Duration: <music21.duration.Duration 4.0>\n",
      "Measure: <music21.stream.Measure 28 offset=108.0>\n",
      "--->Duration: <music21.duration.Duration 4.0>\n",
      "Measure: <music21.stream.Measure 29 offset=112.0>\n",
      "--->Duration: <music21.duration.Duration 4.0>\n",
      "Measure: <music21.stream.Measure 30 offset=116.0>\n",
      "--->Duration: <music21.duration.Duration 4.0>\n",
      "Measure: <music21.stream.Measure 31 offset=120.0>\n",
      "--->Duration: <music21.duration.Duration 4.0>\n",
      "Measure: <music21.stream.Measure 32 offset=124.0>\n",
      "--->Duration: <music21.duration.Duration 4.0>\n",
      "Measure: <music21.stream.Measure 33 offset=128.0>\n",
      "--->Duration: <music21.duration.Duration 4.0>\n",
      "Measure: <music21.stream.Measure 34 offset=132.0>\n",
      "--->Duration: <music21.duration.Duration 4.0>\n",
      "Measure: <music21.stream.Measure 35 offset=136.0>\n",
      "--->Duration: <music21.duration.Duration 4.0>\n",
      "Measure: <music21.stream.Measure 36 offset=140.0>\n",
      "--->Duration: <music21.duration.Duration 4.0>\n",
      "Measure: <music21.stream.Measure 37 offset=144.0>\n",
      "--->Duration: <music21.duration.Duration 4.0>\n"
     ]
    }
   ],
   "source": [
    "measures = part.getElementsByClass(stream.Measure)\n",
    "for meas in measures:\n",
    "    print('Measure: {}'.format(meas))\n",
    "    print('--->Duration: {}'.format(meas.duration))"
   ]
  },
  {
   "cell_type": "code",
   "execution_count": 62,
   "metadata": {},
   "outputs": [],
   "source": [
    "durations = []\n",
    "min_measure_durations = 100\n",
    "\n",
    "for m in measures:\n",
    "    durations.append(m.duration.quarterLength)\n",
    "    \n",
    "    if 0 < m.duration.quarterLength < min_measure_durations:\n",
    "        min_measure_durations = m.duration.quarterLength"
   ]
  },
  {
   "cell_type": "code",
   "execution_count": 66,
   "metadata": {},
   "outputs": [
    {
     "name": "stdout",
     "output_type": "stream",
     "text": [
      "Durations of measures:\n",
      "[4.0, 4.0, 4.0, 4.0, 4.0, 4.0, 4.0, 4.0, 4.0, 4.0, 4.0, 4.0, 4.0, 4.0, 4.0, 4.0, 4.0, 4.0, 4.0, 4.0, 4.0, 4.0, 4.0, 4.0, 4.0, 4.0, 4.0, 4.0, 4.0, 4.0, 4.0, 4.0, 4.0, 4.0, 4.0, 4.0, 4.0]:\n",
      "\n",
      "Min measure duration: 4.0\n"
     ]
    }
   ],
   "source": [
    "print('Durations of measures:')\n",
    "print('{}:'.format(durations))\n",
    "\n",
    "print()\n",
    "print('Min measure duration: {}'.format(min_measure_durations))"
   ]
  },
  {
   "cell_type": "markdown",
   "metadata": {},
   "source": [
    "Remap (To each of the 4 offsets inside a measure, assign a measure number)"
   ]
  },
  {
   "cell_type": "code",
   "execution_count": 70,
   "metadata": {},
   "outputs": [],
   "source": [
    "sample_rate = 1\n",
    "if min_measure_durations < sample_rate:\n",
    "    sample_rate = min_measure_durations"
   ]
  },
  {
   "cell_type": "code",
   "execution_count": 78,
   "metadata": {
    "collapsed": true
   },
   "outputs": [
    {
     "name": "stdout",
     "output_type": "stream",
     "text": [
      "Measure 0\n",
      "---> Measure duration: 4.0\n",
      "--->Sample rate: 1\n",
      "--->Note dur / sample : 4\n",
      "[0, 0, 0, 0]\n",
      "Measure 1\n",
      "---> Measure duration: 4.0\n",
      "--->Sample rate: 1\n",
      "--->Note dur / sample : 4\n",
      "[0, 0, 0, 0, 1, 1, 1, 1]\n",
      "Measure 2\n",
      "---> Measure duration: 4.0\n",
      "--->Sample rate: 1\n",
      "--->Note dur / sample : 4\n",
      "[0, 0, 0, 0, 1, 1, 1, 1, 2, 2, 2, 2]\n",
      "Measure 3\n",
      "---> Measure duration: 4.0\n",
      "--->Sample rate: 1\n",
      "--->Note dur / sample : 4\n",
      "[0, 0, 0, 0, 1, 1, 1, 1, 2, 2, 2, 2, 3, 3, 3, 3]\n",
      "Measure 4\n",
      "---> Measure duration: 4.0\n",
      "--->Sample rate: 1\n",
      "--->Note dur / sample : 4\n",
      "[0, 0, 0, 0, 1, 1, 1, 1, 2, 2, 2, 2, 3, 3, 3, 3, 4, 4, 4, 4]\n",
      "Measure 5\n",
      "---> Measure duration: 4.0\n",
      "--->Sample rate: 1\n",
      "--->Note dur / sample : 4\n",
      "[0, 0, 0, 0, 1, 1, 1, 1, 2, 2, 2, 2, 3, 3, 3, 3, 4, 4, 4, 4, 5, 5, 5, 5]\n",
      "Measure 6\n",
      "---> Measure duration: 4.0\n",
      "--->Sample rate: 1\n",
      "--->Note dur / sample : 4\n",
      "[0, 0, 0, 0, 1, 1, 1, 1, 2, 2, 2, 2, 3, 3, 3, 3, 4, 4, 4, 4, 5, 5, 5, 5, 6, 6, 6, 6]\n",
      "Measure 7\n",
      "---> Measure duration: 4.0\n",
      "--->Sample rate: 1\n",
      "--->Note dur / sample : 4\n",
      "[0, 0, 0, 0, 1, 1, 1, 1, 2, 2, 2, 2, 3, 3, 3, 3, 4, 4, 4, 4, 5, 5, 5, 5, 6, 6, 6, 6, 7, 7, 7, 7]\n",
      "Measure 8\n",
      "---> Measure duration: 4.0\n",
      "--->Sample rate: 1\n",
      "--->Note dur / sample : 4\n",
      "[0, 0, 0, 0, 1, 1, 1, 1, 2, 2, 2, 2, 3, 3, 3, 3, 4, 4, 4, 4, 5, 5, 5, 5, 6, 6, 6, 6, 7, 7, 7, 7, 8, 8, 8, 8]\n",
      "Measure 9\n",
      "---> Measure duration: 4.0\n",
      "--->Sample rate: 1\n",
      "--->Note dur / sample : 4\n",
      "[0, 0, 0, 0, 1, 1, 1, 1, 2, 2, 2, 2, 3, 3, 3, 3, 4, 4, 4, 4, 5, 5, 5, 5, 6, 6, 6, 6, 7, 7, 7, 7, 8, 8, 8, 8, 9, 9, 9, 9]\n",
      "Measure 10\n",
      "---> Measure duration: 4.0\n",
      "--->Sample rate: 1\n",
      "--->Note dur / sample : 4\n",
      "[0, 0, 0, 0, 1, 1, 1, 1, 2, 2, 2, 2, 3, 3, 3, 3, 4, 4, 4, 4, 5, 5, 5, 5, 6, 6, 6, 6, 7, 7, 7, 7, 8, 8, 8, 8, 9, 9, 9, 9, 10, 10, 10, 10]\n",
      "Measure 11\n",
      "---> Measure duration: 4.0\n",
      "--->Sample rate: 1\n",
      "--->Note dur / sample : 4\n",
      "[0, 0, 0, 0, 1, 1, 1, 1, 2, 2, 2, 2, 3, 3, 3, 3, 4, 4, 4, 4, 5, 5, 5, 5, 6, 6, 6, 6, 7, 7, 7, 7, 8, 8, 8, 8, 9, 9, 9, 9, 10, 10, 10, 10, 11, 11, 11, 11]\n",
      "Measure 12\n",
      "---> Measure duration: 4.0\n",
      "--->Sample rate: 1\n",
      "--->Note dur / sample : 4\n",
      "[0, 0, 0, 0, 1, 1, 1, 1, 2, 2, 2, 2, 3, 3, 3, 3, 4, 4, 4, 4, 5, 5, 5, 5, 6, 6, 6, 6, 7, 7, 7, 7, 8, 8, 8, 8, 9, 9, 9, 9, 10, 10, 10, 10, 11, 11, 11, 11, 12, 12, 12, 12]\n",
      "Measure 13\n",
      "---> Measure duration: 4.0\n",
      "--->Sample rate: 1\n",
      "--->Note dur / sample : 4\n",
      "[0, 0, 0, 0, 1, 1, 1, 1, 2, 2, 2, 2, 3, 3, 3, 3, 4, 4, 4, 4, 5, 5, 5, 5, 6, 6, 6, 6, 7, 7, 7, 7, 8, 8, 8, 8, 9, 9, 9, 9, 10, 10, 10, 10, 11, 11, 11, 11, 12, 12, 12, 12, 13, 13, 13, 13]\n",
      "Measure 14\n",
      "---> Measure duration: 4.0\n",
      "--->Sample rate: 1\n",
      "--->Note dur / sample : 4\n",
      "[0, 0, 0, 0, 1, 1, 1, 1, 2, 2, 2, 2, 3, 3, 3, 3, 4, 4, 4, 4, 5, 5, 5, 5, 6, 6, 6, 6, 7, 7, 7, 7, 8, 8, 8, 8, 9, 9, 9, 9, 10, 10, 10, 10, 11, 11, 11, 11, 12, 12, 12, 12, 13, 13, 13, 13, 14, 14, 14, 14]\n",
      "Measure 15\n",
      "---> Measure duration: 4.0\n",
      "--->Sample rate: 1\n",
      "--->Note dur / sample : 4\n",
      "[0, 0, 0, 0, 1, 1, 1, 1, 2, 2, 2, 2, 3, 3, 3, 3, 4, 4, 4, 4, 5, 5, 5, 5, 6, 6, 6, 6, 7, 7, 7, 7, 8, 8, 8, 8, 9, 9, 9, 9, 10, 10, 10, 10, 11, 11, 11, 11, 12, 12, 12, 12, 13, 13, 13, 13, 14, 14, 14, 14, 15, 15, 15, 15]\n",
      "Measure 16\n",
      "---> Measure duration: 4.0\n",
      "--->Sample rate: 1\n",
      "--->Note dur / sample : 4\n",
      "[0, 0, 0, 0, 1, 1, 1, 1, 2, 2, 2, 2, 3, 3, 3, 3, 4, 4, 4, 4, 5, 5, 5, 5, 6, 6, 6, 6, 7, 7, 7, 7, 8, 8, 8, 8, 9, 9, 9, 9, 10, 10, 10, 10, 11, 11, 11, 11, 12, 12, 12, 12, 13, 13, 13, 13, 14, 14, 14, 14, 15, 15, 15, 15, 16, 16, 16, 16]\n",
      "Measure 17\n",
      "---> Measure duration: 4.0\n",
      "--->Sample rate: 1\n",
      "--->Note dur / sample : 4\n",
      "[0, 0, 0, 0, 1, 1, 1, 1, 2, 2, 2, 2, 3, 3, 3, 3, 4, 4, 4, 4, 5, 5, 5, 5, 6, 6, 6, 6, 7, 7, 7, 7, 8, 8, 8, 8, 9, 9, 9, 9, 10, 10, 10, 10, 11, 11, 11, 11, 12, 12, 12, 12, 13, 13, 13, 13, 14, 14, 14, 14, 15, 15, 15, 15, 16, 16, 16, 16, 17, 17, 17, 17]\n",
      "Measure 18\n",
      "---> Measure duration: 4.0\n",
      "--->Sample rate: 1\n",
      "--->Note dur / sample : 4\n",
      "[0, 0, 0, 0, 1, 1, 1, 1, 2, 2, 2, 2, 3, 3, 3, 3, 4, 4, 4, 4, 5, 5, 5, 5, 6, 6, 6, 6, 7, 7, 7, 7, 8, 8, 8, 8, 9, 9, 9, 9, 10, 10, 10, 10, 11, 11, 11, 11, 12, 12, 12, 12, 13, 13, 13, 13, 14, 14, 14, 14, 15, 15, 15, 15, 16, 16, 16, 16, 17, 17, 17, 17, 18, 18, 18, 18]\n",
      "Measure 19\n",
      "---> Measure duration: 4.0\n",
      "--->Sample rate: 1\n",
      "--->Note dur / sample : 4\n",
      "[0, 0, 0, 0, 1, 1, 1, 1, 2, 2, 2, 2, 3, 3, 3, 3, 4, 4, 4, 4, 5, 5, 5, 5, 6, 6, 6, 6, 7, 7, 7, 7, 8, 8, 8, 8, 9, 9, 9, 9, 10, 10, 10, 10, 11, 11, 11, 11, 12, 12, 12, 12, 13, 13, 13, 13, 14, 14, 14, 14, 15, 15, 15, 15, 16, 16, 16, 16, 17, 17, 17, 17, 18, 18, 18, 18, 19, 19, 19, 19]\n",
      "Measure 20\n",
      "---> Measure duration: 4.0\n",
      "--->Sample rate: 1\n",
      "--->Note dur / sample : 4\n",
      "[0, 0, 0, 0, 1, 1, 1, 1, 2, 2, 2, 2, 3, 3, 3, 3, 4, 4, 4, 4, 5, 5, 5, 5, 6, 6, 6, 6, 7, 7, 7, 7, 8, 8, 8, 8, 9, 9, 9, 9, 10, 10, 10, 10, 11, 11, 11, 11, 12, 12, 12, 12, 13, 13, 13, 13, 14, 14, 14, 14, 15, 15, 15, 15, 16, 16, 16, 16, 17, 17, 17, 17, 18, 18, 18, 18, 19, 19, 19, 19, 20, 20, 20, 20]\n",
      "Measure 21\n",
      "---> Measure duration: 4.0\n",
      "--->Sample rate: 1\n",
      "--->Note dur / sample : 4\n",
      "[0, 0, 0, 0, 1, 1, 1, 1, 2, 2, 2, 2, 3, 3, 3, 3, 4, 4, 4, 4, 5, 5, 5, 5, 6, 6, 6, 6, 7, 7, 7, 7, 8, 8, 8, 8, 9, 9, 9, 9, 10, 10, 10, 10, 11, 11, 11, 11, 12, 12, 12, 12, 13, 13, 13, 13, 14, 14, 14, 14, 15, 15, 15, 15, 16, 16, 16, 16, 17, 17, 17, 17, 18, 18, 18, 18, 19, 19, 19, 19, 20, 20, 20, 20, 21, 21, 21, 21]\n",
      "Measure 22\n",
      "---> Measure duration: 4.0\n",
      "--->Sample rate: 1\n",
      "--->Note dur / sample : 4\n",
      "[0, 0, 0, 0, 1, 1, 1, 1, 2, 2, 2, 2, 3, 3, 3, 3, 4, 4, 4, 4, 5, 5, 5, 5, 6, 6, 6, 6, 7, 7, 7, 7, 8, 8, 8, 8, 9, 9, 9, 9, 10, 10, 10, 10, 11, 11, 11, 11, 12, 12, 12, 12, 13, 13, 13, 13, 14, 14, 14, 14, 15, 15, 15, 15, 16, 16, 16, 16, 17, 17, 17, 17, 18, 18, 18, 18, 19, 19, 19, 19, 20, 20, 20, 20, 21, 21, 21, 21, 22, 22, 22, 22]\n",
      "Measure 23\n",
      "---> Measure duration: 4.0\n",
      "--->Sample rate: 1\n",
      "--->Note dur / sample : 4\n",
      "[0, 0, 0, 0, 1, 1, 1, 1, 2, 2, 2, 2, 3, 3, 3, 3, 4, 4, 4, 4, 5, 5, 5, 5, 6, 6, 6, 6, 7, 7, 7, 7, 8, 8, 8, 8, 9, 9, 9, 9, 10, 10, 10, 10, 11, 11, 11, 11, 12, 12, 12, 12, 13, 13, 13, 13, 14, 14, 14, 14, 15, 15, 15, 15, 16, 16, 16, 16, 17, 17, 17, 17, 18, 18, 18, 18, 19, 19, 19, 19, 20, 20, 20, 20, 21, 21, 21, 21, 22, 22, 22, 22, 23, 23, 23, 23]\n",
      "Measure 24\n",
      "---> Measure duration: 4.0\n",
      "--->Sample rate: 1\n",
      "--->Note dur / sample : 4\n",
      "[0, 0, 0, 0, 1, 1, 1, 1, 2, 2, 2, 2, 3, 3, 3, 3, 4, 4, 4, 4, 5, 5, 5, 5, 6, 6, 6, 6, 7, 7, 7, 7, 8, 8, 8, 8, 9, 9, 9, 9, 10, 10, 10, 10, 11, 11, 11, 11, 12, 12, 12, 12, 13, 13, 13, 13, 14, 14, 14, 14, 15, 15, 15, 15, 16, 16, 16, 16, 17, 17, 17, 17, 18, 18, 18, 18, 19, 19, 19, 19, 20, 20, 20, 20, 21, 21, 21, 21, 22, 22, 22, 22, 23, 23, 23, 23, 24, 24, 24, 24]\n",
      "Measure 25\n",
      "---> Measure duration: 4.0\n",
      "--->Sample rate: 1\n",
      "--->Note dur / sample : 4\n",
      "[0, 0, 0, 0, 1, 1, 1, 1, 2, 2, 2, 2, 3, 3, 3, 3, 4, 4, 4, 4, 5, 5, 5, 5, 6, 6, 6, 6, 7, 7, 7, 7, 8, 8, 8, 8, 9, 9, 9, 9, 10, 10, 10, 10, 11, 11, 11, 11, 12, 12, 12, 12, 13, 13, 13, 13, 14, 14, 14, 14, 15, 15, 15, 15, 16, 16, 16, 16, 17, 17, 17, 17, 18, 18, 18, 18, 19, 19, 19, 19, 20, 20, 20, 20, 21, 21, 21, 21, 22, 22, 22, 22, 23, 23, 23, 23, 24, 24, 24, 24, 25, 25, 25, 25]\n",
      "Measure 26\n",
      "---> Measure duration: 4.0\n",
      "--->Sample rate: 1\n",
      "--->Note dur / sample : 4\n",
      "[0, 0, 0, 0, 1, 1, 1, 1, 2, 2, 2, 2, 3, 3, 3, 3, 4, 4, 4, 4, 5, 5, 5, 5, 6, 6, 6, 6, 7, 7, 7, 7, 8, 8, 8, 8, 9, 9, 9, 9, 10, 10, 10, 10, 11, 11, 11, 11, 12, 12, 12, 12, 13, 13, 13, 13, 14, 14, 14, 14, 15, 15, 15, 15, 16, 16, 16, 16, 17, 17, 17, 17, 18, 18, 18, 18, 19, 19, 19, 19, 20, 20, 20, 20, 21, 21, 21, 21, 22, 22, 22, 22, 23, 23, 23, 23, 24, 24, 24, 24, 25, 25, 25, 25, 26, 26, 26, 26]\n",
      "Measure 27\n",
      "---> Measure duration: 4.0\n",
      "--->Sample rate: 1\n",
      "--->Note dur / sample : 4\n",
      "[0, 0, 0, 0, 1, 1, 1, 1, 2, 2, 2, 2, 3, 3, 3, 3, 4, 4, 4, 4, 5, 5, 5, 5, 6, 6, 6, 6, 7, 7, 7, 7, 8, 8, 8, 8, 9, 9, 9, 9, 10, 10, 10, 10, 11, 11, 11, 11, 12, 12, 12, 12, 13, 13, 13, 13, 14, 14, 14, 14, 15, 15, 15, 15, 16, 16, 16, 16, 17, 17, 17, 17, 18, 18, 18, 18, 19, 19, 19, 19, 20, 20, 20, 20, 21, 21, 21, 21, 22, 22, 22, 22, 23, 23, 23, 23, 24, 24, 24, 24, 25, 25, 25, 25, 26, 26, 26, 26, 27, 27, 27, 27]\n",
      "Measure 28\n",
      "---> Measure duration: 4.0\n",
      "--->Sample rate: 1\n",
      "--->Note dur / sample : 4\n",
      "[0, 0, 0, 0, 1, 1, 1, 1, 2, 2, 2, 2, 3, 3, 3, 3, 4, 4, 4, 4, 5, 5, 5, 5, 6, 6, 6, 6, 7, 7, 7, 7, 8, 8, 8, 8, 9, 9, 9, 9, 10, 10, 10, 10, 11, 11, 11, 11, 12, 12, 12, 12, 13, 13, 13, 13, 14, 14, 14, 14, 15, 15, 15, 15, 16, 16, 16, 16, 17, 17, 17, 17, 18, 18, 18, 18, 19, 19, 19, 19, 20, 20, 20, 20, 21, 21, 21, 21, 22, 22, 22, 22, 23, 23, 23, 23, 24, 24, 24, 24, 25, 25, 25, 25, 26, 26, 26, 26, 27, 27, 27, 27, 28, 28, 28, 28]\n",
      "Measure 29\n",
      "---> Measure duration: 4.0\n",
      "--->Sample rate: 1\n",
      "--->Note dur / sample : 4\n",
      "[0, 0, 0, 0, 1, 1, 1, 1, 2, 2, 2, 2, 3, 3, 3, 3, 4, 4, 4, 4, 5, 5, 5, 5, 6, 6, 6, 6, 7, 7, 7, 7, 8, 8, 8, 8, 9, 9, 9, 9, 10, 10, 10, 10, 11, 11, 11, 11, 12, 12, 12, 12, 13, 13, 13, 13, 14, 14, 14, 14, 15, 15, 15, 15, 16, 16, 16, 16, 17, 17, 17, 17, 18, 18, 18, 18, 19, 19, 19, 19, 20, 20, 20, 20, 21, 21, 21, 21, 22, 22, 22, 22, 23, 23, 23, 23, 24, 24, 24, 24, 25, 25, 25, 25, 26, 26, 26, 26, 27, 27, 27, 27, 28, 28, 28, 28, 29, 29, 29, 29]\n",
      "Measure 30\n",
      "---> Measure duration: 4.0\n",
      "--->Sample rate: 1\n",
      "--->Note dur / sample : 4\n",
      "[0, 0, 0, 0, 1, 1, 1, 1, 2, 2, 2, 2, 3, 3, 3, 3, 4, 4, 4, 4, 5, 5, 5, 5, 6, 6, 6, 6, 7, 7, 7, 7, 8, 8, 8, 8, 9, 9, 9, 9, 10, 10, 10, 10, 11, 11, 11, 11, 12, 12, 12, 12, 13, 13, 13, 13, 14, 14, 14, 14, 15, 15, 15, 15, 16, 16, 16, 16, 17, 17, 17, 17, 18, 18, 18, 18, 19, 19, 19, 19, 20, 20, 20, 20, 21, 21, 21, 21, 22, 22, 22, 22, 23, 23, 23, 23, 24, 24, 24, 24, 25, 25, 25, 25, 26, 26, 26, 26, 27, 27, 27, 27, 28, 28, 28, 28, 29, 29, 29, 29, 30, 30, 30, 30]\n",
      "Measure 31\n",
      "---> Measure duration: 4.0\n",
      "--->Sample rate: 1\n",
      "--->Note dur / sample : 4\n",
      "[0, 0, 0, 0, 1, 1, 1, 1, 2, 2, 2, 2, 3, 3, 3, 3, 4, 4, 4, 4, 5, 5, 5, 5, 6, 6, 6, 6, 7, 7, 7, 7, 8, 8, 8, 8, 9, 9, 9, 9, 10, 10, 10, 10, 11, 11, 11, 11, 12, 12, 12, 12, 13, 13, 13, 13, 14, 14, 14, 14, 15, 15, 15, 15, 16, 16, 16, 16, 17, 17, 17, 17, 18, 18, 18, 18, 19, 19, 19, 19, 20, 20, 20, 20, 21, 21, 21, 21, 22, 22, 22, 22, 23, 23, 23, 23, 24, 24, 24, 24, 25, 25, 25, 25, 26, 26, 26, 26, 27, 27, 27, 27, 28, 28, 28, 28, 29, 29, 29, 29, 30, 30, 30, 30, 31, 31, 31, 31]\n",
      "Measure 32\n",
      "---> Measure duration: 4.0\n",
      "--->Sample rate: 1\n",
      "--->Note dur / sample : 4\n",
      "[0, 0, 0, 0, 1, 1, 1, 1, 2, 2, 2, 2, 3, 3, 3, 3, 4, 4, 4, 4, 5, 5, 5, 5, 6, 6, 6, 6, 7, 7, 7, 7, 8, 8, 8, 8, 9, 9, 9, 9, 10, 10, 10, 10, 11, 11, 11, 11, 12, 12, 12, 12, 13, 13, 13, 13, 14, 14, 14, 14, 15, 15, 15, 15, 16, 16, 16, 16, 17, 17, 17, 17, 18, 18, 18, 18, 19, 19, 19, 19, 20, 20, 20, 20, 21, 21, 21, 21, 22, 22, 22, 22, 23, 23, 23, 23, 24, 24, 24, 24, 25, 25, 25, 25, 26, 26, 26, 26, 27, 27, 27, 27, 28, 28, 28, 28, 29, 29, 29, 29, 30, 30, 30, 30, 31, 31, 31, 31, 32, 32, 32, 32]\n",
      "Measure 33\n",
      "---> Measure duration: 4.0\n",
      "--->Sample rate: 1\n",
      "--->Note dur / sample : 4\n",
      "[0, 0, 0, 0, 1, 1, 1, 1, 2, 2, 2, 2, 3, 3, 3, 3, 4, 4, 4, 4, 5, 5, 5, 5, 6, 6, 6, 6, 7, 7, 7, 7, 8, 8, 8, 8, 9, 9, 9, 9, 10, 10, 10, 10, 11, 11, 11, 11, 12, 12, 12, 12, 13, 13, 13, 13, 14, 14, 14, 14, 15, 15, 15, 15, 16, 16, 16, 16, 17, 17, 17, 17, 18, 18, 18, 18, 19, 19, 19, 19, 20, 20, 20, 20, 21, 21, 21, 21, 22, 22, 22, 22, 23, 23, 23, 23, 24, 24, 24, 24, 25, 25, 25, 25, 26, 26, 26, 26, 27, 27, 27, 27, 28, 28, 28, 28, 29, 29, 29, 29, 30, 30, 30, 30, 31, 31, 31, 31, 32, 32, 32, 32, 33, 33, 33, 33]\n",
      "Measure 34\n",
      "---> Measure duration: 4.0\n",
      "--->Sample rate: 1\n",
      "--->Note dur / sample : 4\n",
      "[0, 0, 0, 0, 1, 1, 1, 1, 2, 2, 2, 2, 3, 3, 3, 3, 4, 4, 4, 4, 5, 5, 5, 5, 6, 6, 6, 6, 7, 7, 7, 7, 8, 8, 8, 8, 9, 9, 9, 9, 10, 10, 10, 10, 11, 11, 11, 11, 12, 12, 12, 12, 13, 13, 13, 13, 14, 14, 14, 14, 15, 15, 15, 15, 16, 16, 16, 16, 17, 17, 17, 17, 18, 18, 18, 18, 19, 19, 19, 19, 20, 20, 20, 20, 21, 21, 21, 21, 22, 22, 22, 22, 23, 23, 23, 23, 24, 24, 24, 24, 25, 25, 25, 25, 26, 26, 26, 26, 27, 27, 27, 27, 28, 28, 28, 28, 29, 29, 29, 29, 30, 30, 30, 30, 31, 31, 31, 31, 32, 32, 32, 32, 33, 33, 33, 33, 34, 34, 34, 34]\n",
      "Measure 35\n",
      "---> Measure duration: 4.0\n",
      "--->Sample rate: 1\n",
      "--->Note dur / sample : 4\n",
      "[0, 0, 0, 0, 1, 1, 1, 1, 2, 2, 2, 2, 3, 3, 3, 3, 4, 4, 4, 4, 5, 5, 5, 5, 6, 6, 6, 6, 7, 7, 7, 7, 8, 8, 8, 8, 9, 9, 9, 9, 10, 10, 10, 10, 11, 11, 11, 11, 12, 12, 12, 12, 13, 13, 13, 13, 14, 14, 14, 14, 15, 15, 15, 15, 16, 16, 16, 16, 17, 17, 17, 17, 18, 18, 18, 18, 19, 19, 19, 19, 20, 20, 20, 20, 21, 21, 21, 21, 22, 22, 22, 22, 23, 23, 23, 23, 24, 24, 24, 24, 25, 25, 25, 25, 26, 26, 26, 26, 27, 27, 27, 27, 28, 28, 28, 28, 29, 29, 29, 29, 30, 30, 30, 30, 31, 31, 31, 31, 32, 32, 32, 32, 33, 33, 33, 33, 34, 34, 34, 34, 35, 35, 35, 35]\n",
      "Measure 36\n",
      "---> Measure duration: 4.0\n",
      "--->Sample rate: 1\n",
      "--->Note dur / sample : 4\n",
      "[0, 0, 0, 0, 1, 1, 1, 1, 2, 2, 2, 2, 3, 3, 3, 3, 4, 4, 4, 4, 5, 5, 5, 5, 6, 6, 6, 6, 7, 7, 7, 7, 8, 8, 8, 8, 9, 9, 9, 9, 10, 10, 10, 10, 11, 11, 11, 11, 12, 12, 12, 12, 13, 13, 13, 13, 14, 14, 14, 14, 15, 15, 15, 15, 16, 16, 16, 16, 17, 17, 17, 17, 18, 18, 18, 18, 19, 19, 19, 19, 20, 20, 20, 20, 21, 21, 21, 21, 22, 22, 22, 22, 23, 23, 23, 23, 24, 24, 24, 24, 25, 25, 25, 25, 26, 26, 26, 26, 27, 27, 27, 27, 28, 28, 28, 28, 29, 29, 29, 29, 30, 30, 30, 30, 31, 31, 31, 31, 32, 32, 32, 32, 33, 33, 33, 33, 34, 34, 34, 34, 35, 35, 35, 35, 36, 36, 36, 36]\n"
     ]
    }
   ],
   "source": [
    "result = []\n",
    "for i in range(len(durations)):\n",
    "    print('Measure {}'.format(i))\n",
    "    print('---> Measure duration: {}'.format(durations[i]))\n",
    "    print('--->Sample rate: {}'.format(sample_rate))\n",
    "    d = int(durations[i] / sample_rate)\n",
    "    print('--->Note dur / sample : {}'.format(d))\n",
    "    result.extend([i] * d) #Extend the measure (If duration 4, add 4 offsets for each measure)\n",
    "    print(result)"
   ]
  },
  {
   "cell_type": "markdown",
   "metadata": {},
   "source": [
    "# Create a ly template"
   ]
  },
  {
   "cell_type": "code",
   "execution_count": 150,
   "metadata": {},
   "outputs": [],
   "source": [
    "import sys\n",
    "import os\n",
    "sys.path.append('/home/eduard/Escritorio/TrinityPipeline/code/')"
   ]
  },
  {
   "cell_type": "code",
   "execution_count": 151,
   "metadata": {},
   "outputs": [],
   "source": [
    "from lily_port.musicxml2ly import convert_to_template\n",
    "from io import StringIO\n",
    "from tempfile import NamedTemporaryFile"
   ]
  },
  {
   "cell_type": "code",
   "execution_count": 152,
   "metadata": {},
   "outputs": [],
   "source": [
    "converter_log = StringIO()\n",
    "file = open(\"./test.ly\", \"w+t\")"
   ]
  },
  {
   "cell_type": "code",
   "execution_count": 153,
   "metadata": {},
   "outputs": [
    {
     "data": {
      "text/plain": [
       "'./test.ly'"
      ]
     },
     "execution_count": 153,
     "metadata": {},
     "output_type": "execute_result"
    }
   ],
   "source": [
    "file.name"
   ]
  },
  {
   "cell_type": "code",
   "execution_count": 154,
   "metadata": {},
   "outputs": [],
   "source": [
    "voices, staff_space, line_width, bars_number, lines_number = convert_to_template(\n",
    "            score_xml, output_file=file, two_hands_layout=False, log_stream=converter_log)"
   ]
  },
  {
   "cell_type": "markdown",
   "metadata": {},
   "source": [
    "# Create png from ly"
   ]
  },
  {
   "cell_type": "code",
   "execution_count": 174,
   "metadata": {
    "slideshow": {
     "slide_type": "-"
    }
   },
   "outputs": [],
   "source": [
    "import re\n",
    "import subprocess"
   ]
  },
  {
   "cell_type": "code",
   "execution_count": 181,
   "metadata": {},
   "outputs": [],
   "source": [
    "suffix = 'png'\n",
    "ext_cutter = re.compile('\\.cropped\\.' + suffix + '$')\n",
    "cropped_suffix_cutter = re.compile('\\.cropped')\n",
    "\n",
    "\n",
    "fout= open('./test.cropped.' + suffix,'w+t')\n",
    "fout_name = fout.name"
   ]
  },
  {
   "cell_type": "code",
   "execution_count": 176,
   "metadata": {},
   "outputs": [
    {
     "name": "stdout",
     "output_type": "stream",
     "text": [
      "File out name: ./test.cropped.png\n"
     ]
    }
   ],
   "source": [
    "print('File out name: {}'.format(fout_name))"
   ]
  },
  {
   "cell_type": "code",
   "execution_count": 177,
   "metadata": {},
   "outputs": [
    {
     "data": {
      "text/plain": [
       "'./test.png'"
      ]
     },
     "execution_count": 177,
     "metadata": {},
     "output_type": "execute_result"
    }
   ],
   "source": [
    "cropped_suffix_cutter.sub('', fout_name)"
   ]
  },
  {
   "cell_type": "code",
   "execution_count": 178,
   "metadata": {},
   "outputs": [
    {
     "name": "stdout",
     "output_type": "stream",
     "text": [
      "Lily File name: ./test.ly\n",
      "Result File name: ./test.cropped.png\n"
     ]
    }
   ],
   "source": [
    "print('Lily File name: {}'.format(file.name))\n",
    "print('Result File name: {}'.format(fout_name))"
   ]
  },
  {
   "cell_type": "code",
   "execution_count": 179,
   "metadata": {},
   "outputs": [],
   "source": [
    "lily_format_option = '--png'\n",
    "dpi = 300\n",
    "\n",
    "lily_process = subprocess.Popen(\n",
    "    [\"lilypond\", lily_format_option, \"-dcrop=#t\", '-o', cropped_suffix_cutter.sub('', fout_name),\n",
    "     \"-dresolution=%d\" % dpi, file.name], stdout=subprocess.PIPE, stderr=subprocess.STDOUT)"
   ]
  },
  {
   "cell_type": "code",
   "execution_count": 180,
   "metadata": {
    "scrolled": true,
    "slideshow": {
     "slide_type": "-"
    }
   },
   "outputs": [
    {
     "data": {
      "text/plain": [
       "b'Procesando \\xc2\\xab./test.ly\\xc2\\xbb\\nAnalizando...\\nadvertencia: tipo de clave desconocido: \\xc2\\xabNone\\xc2\\xbb \\nadvertencia: claves soportadas: C F G G2 GG alto altovarC baritone baritonevarC baritonevarF bass blackmensural-c1 blackmensural-c2 blackmensural-c3 blackmensural-c4 blackmensural-c5 french hufnagel-do-fa hufnagel-do1 hufnagel-do2 hufnagel-do3 hufnagel-fa1 hufnagel-fa2 kievan-do medicaea-do1 medicaea-do2 medicaea-do3 medicaea-fa1 medicaea-fa2 mensural-c1 mensural-c2 mensural-c3 mensural-c4 mensural-c5 mensural-f mensural-g mezzosoprano moderntab neomensural-c1 neomensural-c2 neomensural-c3 neomensural-c4 neomensural-c5 percussion petrucci-c1 petrucci-c2 petrucci-c3 petrucci-c4 petrucci-c5 petrucci-f petrucci-f2 petrucci-f3 petrucci-f4 petrucci-f5 petrucci-g petrucci-g1 petrucci-g2 soprano subbass tab tenor tenorG tenorvarC treble varC varbaritone varpercussion vaticana-do1 vaticana-do2 vaticana-do3 vaticana-fa1 vaticana-fa2 violin\\nEnhorabuena. La compilaci\\xc3\\xb3n se ha completado satisfactoriamente.\\n'"
      ]
     },
     "execution_count": 180,
     "metadata": {},
     "output_type": "execute_result"
    }
   ],
   "source": [
    "lily_process.communicate()[0]"
   ]
  },
  {
   "cell_type": "code",
   "execution_count": 170,
   "metadata": {},
   "outputs": [
    {
     "data": {
      "text/plain": [
       "0"
      ]
     },
     "execution_count": 170,
     "metadata": {},
     "output_type": "execute_result"
    }
   ],
   "source": [
    "lily_process.returncode"
   ]
  },
  {
   "cell_type": "markdown",
   "metadata": {},
   "source": [
    "# Parsing xml files"
   ]
  },
  {
   "cell_type": "code",
   "execution_count": 20,
   "metadata": {},
   "outputs": [],
   "source": [
    "from xml.dom.minidom import parse, parseString\n",
    "from xml.dom import minidom"
   ]
  },
  {
   "cell_type": "code",
   "execution_count": 9,
   "metadata": {},
   "outputs": [],
   "source": [
    "doc = parseString('<myxml>Some data<empty/> some more data</myxml>')"
   ]
  },
  {
   "cell_type": "code",
   "execution_count": 11,
   "metadata": {},
   "outputs": [
    {
     "data": {
      "text/plain": [
       "'myxml'"
      ]
     },
     "execution_count": 11,
     "metadata": {},
     "output_type": "execute_result"
    }
   ],
   "source": [
    "doc.documentElement.nodeName"
   ]
  },
  {
   "cell_type": "code",
   "execution_count": 24,
   "metadata": {},
   "outputs": [],
   "source": [
    "score_xml = open('/home/eduard/Escritorio/TrinityPipeline/RP/Guitar/Grade0/Edited/GTR Gr 0 Runaway Train.xml')"
   ]
  },
  {
   "cell_type": "code",
   "execution_count": 29,
   "metadata": {},
   "outputs": [
    {
     "data": {
      "text/plain": [
       "<_io.TextIOWrapper name='/home/eduard/Escritorio/TrinityPipeline/RP/Guitar/Grade0/Edited/GTR Gr 0 Runaway Train.xml' mode='r' encoding='UTF-8'>"
      ]
     },
     "execution_count": 29,
     "metadata": {},
     "output_type": "execute_result"
    }
   ],
   "source": [
    "score_xml"
   ]
  },
  {
   "cell_type": "code",
   "execution_count": 25,
   "metadata": {},
   "outputs": [],
   "source": [
    "doc = minidom.parse(score_xml)"
   ]
  },
  {
   "cell_type": "code",
   "execution_count": 27,
   "metadata": {},
   "outputs": [],
   "source": [
    "node = doc.documentElement\n",
    "\n",
    "name = node.nodeName"
   ]
  },
  {
   "cell_type": "code",
   "execution_count": 31,
   "metadata": {
    "scrolled": false
   },
   "outputs": [
    {
     "data": {
      "text/plain": [
       "[<DOM Text node \"'\\n '\">,\n",
       " <DOM Element: work at 0x7fcce0f87d58>,\n",
       " <DOM Text node \"'\\n '\">,\n",
       " <DOM Element: identification at 0x7fcce0f87f20>,\n",
       " <DOM Text node \"'\\n '\">,\n",
       " <DOM Element: defaults at 0x7fcce0f8d6d0>,\n",
       " <DOM Text node \"'\\n '\">,\n",
       " <DOM Element: credit at 0x7fcce0f9c178>,\n",
       " <DOM Text node \"'\\n '\">,\n",
       " <DOM Element: credit at 0x7fcce0f9c2a8>,\n",
       " <DOM Text node \"'\\n '\">,\n",
       " <DOM Element: part-list at 0x7fcce0f9c3d8>,\n",
       " <DOM Text node \"'\\n '\">,\n",
       " <DOM Element: part at 0x7fcce0fa6930>,\n",
       " <DOM Text node \"'\\n '\">,\n",
       " <DOM Element: part at 0x7fcce0c35210>,\n",
       " <DOM Text node \"'\\n'\">]"
      ]
     },
     "execution_count": 31,
     "metadata": {},
     "output_type": "execute_result"
    }
   ],
   "source": [
    "[cn for cn in node.childNodes]"
   ]
  },
  {
   "cell_type": "code",
   "execution_count": 39,
   "metadata": {},
   "outputs": [
    {
     "data": {
      "text/plain": [
       "[('version', '3.0')]"
      ]
     },
     "execution_count": 39,
     "metadata": {},
     "output_type": "execute_result"
    }
   ],
   "source": [
    "[ i for i in node.attributes.items()]"
   ]
  },
  {
   "cell_type": "markdown",
   "metadata": {},
   "source": [
    "# Jinja"
   ]
  },
  {
   "cell_type": "code",
   "execution_count": 72,
   "metadata": {},
   "outputs": [],
   "source": [
    "import jinja2\n",
    "import os\n",
    "import matplotlib.cm as cm\n",
    "import matplotlib.pyplot as plt\n",
    "import numpy as np"
   ]
  },
  {
   "cell_type": "code",
   "execution_count": 52,
   "metadata": {},
   "outputs": [],
   "source": [
    "#!ls /tmp"
   ]
  },
  {
   "cell_type": "code",
   "execution_count": 90,
   "metadata": {},
   "outputs": [],
   "source": [
    "lilypond_template_file = 'template.ly'\n",
    "template_dir = '/home/eduard/Escritorio/TFG_EduardVergesFranch/others'\n",
    "lilypond_basedir = '/home/eduard/Escritorio/TFG_EduardVergesFranch/others'"
   ]
  },
  {
   "cell_type": "code",
   "execution_count": 111,
   "metadata": {},
   "outputs": [],
   "source": [
    "latex_jinja_env = jinja2.Environment(\n",
    "        block_start_string='%{',\n",
    "        block_end_string='%}',\n",
    "        variable_start_string='%{{',\n",
    "        variable_end_string='}%}',\n",
    "        trim_blocks=True,\n",
    "        autoescape=False,\n",
    "        loader=jinja2.FileSystemLoader(template_dir))"
   ]
  },
  {
   "cell_type": "code",
   "execution_count": 112,
   "metadata": {},
   "outputs": [
    {
     "data": {
      "text/plain": [
       "<jinja2.environment.Environment at 0x7fcce15b79b0>"
      ]
     },
     "execution_count": 112,
     "metadata": {},
     "output_type": "execute_result"
    }
   ],
   "source": [
    "latex_jinja_env"
   ]
  },
  {
   "cell_type": "code",
   "execution_count": 124,
   "metadata": {},
   "outputs": [],
   "source": [
    "template = latex_jinja_env.get_template(lilypond_template_file)"
   ]
  },
  {
   "cell_type": "code",
   "execution_count": 114,
   "metadata": {},
   "outputs": [],
   "source": [
    "class ColorIterator: #Iterator that changes the color of the nodes in lilypond\n",
    "    def __init__(self, rgbas):\n",
    "        self.rgbas = rgbas\n",
    "        self.pos = -1\n",
    "\n",
    "    def current(self):\n",
    "        return \" %.3f %.3f %.3f\" %\\\n",
    "               (self.rgbas[self.pos, 0],\n",
    "                self.rgbas[self.pos, 1],\n",
    "                self.rgbas[self.pos, 2])\n",
    "\n",
    "    def __iter__(self):\n",
    "        return self\n",
    "\n",
    "    def next(self):\n",
    "        self.pos += 1\n",
    "        if self.pos < len(self.rgbas):\n",
    "            return self.current()\n",
    "        else:\n",
    "            raise StopIteration"
   ]
  },
  {
   "cell_type": "code",
   "execution_count": 95,
   "metadata": {},
   "outputs": [],
   "source": [
    "m = np.exp([2,2,2,2,2,2,2,2])\n",
    "sm = cm.ScalarMappable(\n",
    "        norm=plt.Normalize(0, 1, clip=True), cmap=plt.get_cmap('RdYlGn')) #define a colormap (for deviations and notes)\n",
    "rgbas = sm.to_rgba(m)\n",
    "it = ColorIterator(rgbas)"
   ]
  },
  {
   "cell_type": "code",
   "execution_count": 130,
   "metadata": {},
   "outputs": [
    {
     "ename": "TypeError",
     "evalue": "'tuple' object is not callable",
     "output_type": "error",
     "traceback": [
      "\u001b[0;31m---------------------------------------------------------------------------\u001b[0m",
      "\u001b[0;31mTypeError\u001b[0m                                 Traceback (most recent call last)",
      "\u001b[0;32m<ipython-input-130-d58e6886c98d>\u001b[0m in \u001b[0;36m<module>\u001b[0;34m\u001b[0m\n\u001b[1;32m      1\u001b[0m res = template.render({\n\u001b[1;32m      2\u001b[0m     \u001b[0;34m'next_color'\u001b[0m \u001b[0;34m:\u001b[0m \u001b[0;32mlambda\u001b[0m\u001b[0;34m:\u001b[0m \u001b[0mit\u001b[0m\u001b[0;34m.\u001b[0m\u001b[0mnext\u001b[0m\u001b[0;34m(\u001b[0m\u001b[0;34m)\u001b[0m\u001b[0;34m,\u001b[0m\u001b[0;34m\u001b[0m\u001b[0;34m\u001b[0m\u001b[0m\n\u001b[0;32m----> 3\u001b[0;31m     \u001b[0;34m'eps'\u001b[0m\u001b[0;34m:\u001b[0m\u001b[0;34m(\u001b[0m\u001b[0;36m0\u001b[0m\u001b[0;34m,\u001b[0m\u001b[0;36m3\u001b[0m\u001b[0;34m)\u001b[0m\u001b[0;34m\u001b[0m\u001b[0;34m\u001b[0m\u001b[0m\n\u001b[0m\u001b[1;32m      4\u001b[0m })\n",
      "\u001b[0;32m~/anaconda3/envs/simmusic/lib/python3.6/site-packages/jinja2/environment.py\u001b[0m in \u001b[0;36mrender\u001b[0;34m(self, *args, **kwargs)\u001b[0m\n\u001b[1;32m   1088\u001b[0m             \u001b[0;32mreturn\u001b[0m \u001b[0mconcat\u001b[0m\u001b[0;34m(\u001b[0m\u001b[0mself\u001b[0m\u001b[0;34m.\u001b[0m\u001b[0mroot_render_func\u001b[0m\u001b[0;34m(\u001b[0m\u001b[0mself\u001b[0m\u001b[0;34m.\u001b[0m\u001b[0mnew_context\u001b[0m\u001b[0;34m(\u001b[0m\u001b[0mvars\u001b[0m\u001b[0;34m)\u001b[0m\u001b[0;34m)\u001b[0m\u001b[0;34m)\u001b[0m\u001b[0;34m\u001b[0m\u001b[0;34m\u001b[0m\u001b[0m\n\u001b[1;32m   1089\u001b[0m         \u001b[0;32mexcept\u001b[0m \u001b[0mException\u001b[0m\u001b[0;34m:\u001b[0m\u001b[0;34m\u001b[0m\u001b[0;34m\u001b[0m\u001b[0m\n\u001b[0;32m-> 1090\u001b[0;31m             \u001b[0mself\u001b[0m\u001b[0;34m.\u001b[0m\u001b[0menvironment\u001b[0m\u001b[0;34m.\u001b[0m\u001b[0mhandle_exception\u001b[0m\u001b[0;34m(\u001b[0m\u001b[0;34m)\u001b[0m\u001b[0;34m\u001b[0m\u001b[0;34m\u001b[0m\u001b[0m\n\u001b[0m\u001b[1;32m   1091\u001b[0m \u001b[0;34m\u001b[0m\u001b[0m\n\u001b[1;32m   1092\u001b[0m     \u001b[0;32mdef\u001b[0m \u001b[0mrender_async\u001b[0m\u001b[0;34m(\u001b[0m\u001b[0mself\u001b[0m\u001b[0;34m,\u001b[0m \u001b[0;34m*\u001b[0m\u001b[0margs\u001b[0m\u001b[0;34m,\u001b[0m \u001b[0;34m**\u001b[0m\u001b[0mkwargs\u001b[0m\u001b[0;34m)\u001b[0m\u001b[0;34m:\u001b[0m\u001b[0;34m\u001b[0m\u001b[0;34m\u001b[0m\u001b[0m\n",
      "\u001b[0;32m~/anaconda3/envs/simmusic/lib/python3.6/site-packages/jinja2/environment.py\u001b[0m in \u001b[0;36mhandle_exception\u001b[0;34m(self, source)\u001b[0m\n\u001b[1;32m    830\u001b[0m         \u001b[0;32mfrom\u001b[0m \u001b[0;34m.\u001b[0m\u001b[0mdebug\u001b[0m \u001b[0;32mimport\u001b[0m \u001b[0mrewrite_traceback_stack\u001b[0m\u001b[0;34m\u001b[0m\u001b[0;34m\u001b[0m\u001b[0m\n\u001b[1;32m    831\u001b[0m \u001b[0;34m\u001b[0m\u001b[0m\n\u001b[0;32m--> 832\u001b[0;31m         \u001b[0mreraise\u001b[0m\u001b[0;34m(\u001b[0m\u001b[0;34m*\u001b[0m\u001b[0mrewrite_traceback_stack\u001b[0m\u001b[0;34m(\u001b[0m\u001b[0msource\u001b[0m\u001b[0;34m=\u001b[0m\u001b[0msource\u001b[0m\u001b[0;34m)\u001b[0m\u001b[0;34m)\u001b[0m\u001b[0;34m\u001b[0m\u001b[0;34m\u001b[0m\u001b[0m\n\u001b[0m\u001b[1;32m    833\u001b[0m \u001b[0;34m\u001b[0m\u001b[0m\n\u001b[1;32m    834\u001b[0m     \u001b[0;32mdef\u001b[0m \u001b[0mjoin_path\u001b[0m\u001b[0;34m(\u001b[0m\u001b[0mself\u001b[0m\u001b[0;34m,\u001b[0m \u001b[0mtemplate\u001b[0m\u001b[0;34m,\u001b[0m \u001b[0mparent\u001b[0m\u001b[0;34m)\u001b[0m\u001b[0;34m:\u001b[0m\u001b[0;34m\u001b[0m\u001b[0;34m\u001b[0m\u001b[0m\n",
      "\u001b[0;32m~/anaconda3/envs/simmusic/lib/python3.6/site-packages/jinja2/_compat.py\u001b[0m in \u001b[0;36mreraise\u001b[0;34m(tp, value, tb)\u001b[0m\n\u001b[1;32m     26\u001b[0m     \u001b[0;32mdef\u001b[0m \u001b[0mreraise\u001b[0m\u001b[0;34m(\u001b[0m\u001b[0mtp\u001b[0m\u001b[0;34m,\u001b[0m \u001b[0mvalue\u001b[0m\u001b[0;34m,\u001b[0m \u001b[0mtb\u001b[0m\u001b[0;34m=\u001b[0m\u001b[0;32mNone\u001b[0m\u001b[0;34m)\u001b[0m\u001b[0;34m:\u001b[0m\u001b[0;34m\u001b[0m\u001b[0;34m\u001b[0m\u001b[0m\n\u001b[1;32m     27\u001b[0m         \u001b[0;32mif\u001b[0m \u001b[0mvalue\u001b[0m\u001b[0;34m.\u001b[0m\u001b[0m__traceback__\u001b[0m \u001b[0;32mis\u001b[0m \u001b[0;32mnot\u001b[0m \u001b[0mtb\u001b[0m\u001b[0;34m:\u001b[0m\u001b[0;34m\u001b[0m\u001b[0;34m\u001b[0m\u001b[0m\n\u001b[0;32m---> 28\u001b[0;31m             \u001b[0;32mraise\u001b[0m \u001b[0mvalue\u001b[0m\u001b[0;34m.\u001b[0m\u001b[0mwith_traceback\u001b[0m\u001b[0;34m(\u001b[0m\u001b[0mtb\u001b[0m\u001b[0;34m)\u001b[0m\u001b[0;34m\u001b[0m\u001b[0;34m\u001b[0m\u001b[0m\n\u001b[0m\u001b[1;32m     29\u001b[0m         \u001b[0;32mraise\u001b[0m \u001b[0mvalue\u001b[0m\u001b[0;34m\u001b[0m\u001b[0;34m\u001b[0m\u001b[0m\n\u001b[1;32m     30\u001b[0m \u001b[0;34m\u001b[0m\u001b[0m\n",
      "\u001b[0;32m~/Escritorio/TFG_EduardVergesFranch/others/template.ly\u001b[0m in \u001b[0;36mtop-level template code\u001b[0;34m()\u001b[0m\n\u001b[1;32m     38\u001b[0m     \u001b[0;31m\\\u001b[0m\u001b[0mclef\u001b[0m \u001b[0;34m\"treble\"\u001b[0m\u001b[0;31m \u001b[0m\u001b[0;31m\\\u001b[0m\u001b[0mnumericTimeSignature\u001b[0m\u001b[0;31m\\\u001b[0m\u001b[0mtime\u001b[0m \u001b[0;36m4\u001b[0m\u001b[0;34m/\u001b[0m\u001b[0;36m4\u001b[0m\u001b[0;31m \u001b[0m\u001b[0;31m\\\u001b[0m\u001b[0mkey\u001b[0m \u001b[0mc\u001b[0m\u001b[0;31m \u001b[0m\u001b[0;31m\\\u001b[0m\u001b[0mmajor\u001b[0m\u001b[0;34m\u001b[0m\u001b[0;34m\u001b[0m\u001b[0m\n\u001b[1;32m     39\u001b[0m     \u001b[0;31m\\\u001b[0m\u001b[0mtransposition\u001b[0m \u001b[0mc\u001b[0m\u001b[0;31m \u001b[0m\u001b[0;31m\\\u001b[0m\u001b[0;32mbreak\u001b[0m \u001b[0;34m|\u001b[0m \u001b[0;34m%\u001b[0m \u001b[0;36m1\u001b[0m\u001b[0;34m\u001b[0m\u001b[0;34m\u001b[0m\u001b[0m\n\u001b[0;32m---> 40\u001b[0;31m     \\tempo 4=112 %{{color}%}<g b d g b g'>1 %{{ eps(0, 5)}%} -\\mf ^\\markup{\n\u001b[0m\u001b[1;32m     41\u001b[0m         \\bold\\small {\\box \"Intro\" } } | % 2\n\u001b[1;32m     42\u001b[0m     \u001b[0;31m\\\u001b[0m\u001b[0mstemUp\u001b[0m \u001b[0;34m<\u001b[0m\u001b[0mg\u001b[0m \u001b[0mb\u001b[0m \u001b[0md\u001b[0m \u001b[0mg\u001b[0m \u001b[0mb\u001b[0m \u001b[0mg\u001b[0m\u001b[0;31m'\u001b[0m\u001b[0;34m>\u001b[0m\u001b[0;36m4\u001b[0m \u001b[0mr4\u001b[0m \u001b[0mr2\u001b[0m\u001b[0;31m \u001b[0m\u001b[0;31m\\\u001b[0m\u001b[0mbar\u001b[0m \u001b[0;34m\"||\"\u001b[0m\u001b[0;34m\u001b[0m\u001b[0;34m\u001b[0m\u001b[0m\n",
      "\u001b[0;31mTypeError\u001b[0m: 'tuple' object is not callable"
     ]
    }
   ],
   "source": [
    "res = template.render({\n",
    "    'next_color' : lambda: it.next(),\n",
    "    'eps':(0,3)\n",
    "})"
   ]
  }
 ],
 "metadata": {
  "kernelspec": {
   "display_name": "Python 3.6.8 64-bit ('simmusic': conda)",
   "language": "python",
   "name": "python36864bitsimmusicconda80a6b826c14a42388df8af3b62b964c2"
  },
  "language_info": {
   "codemirror_mode": {
    "name": "ipython",
    "version": 3
   },
   "file_extension": ".py",
   "mimetype": "text/x-python",
   "name": "python",
   "nbconvert_exporter": "python",
   "pygments_lexer": "ipython3",
   "version": "3.6.8"
  }
 },
 "nbformat": 4,
 "nbformat_minor": 5
}
