{
 "cells": [
  {
   "cell_type": "code",
   "execution_count": 10,
   "id": "bba27190",
   "metadata": {},
   "outputs": [],
   "source": [
    "from sklearn import tree\n",
    "from pychord_tools.models import load_model\n",
    "import json\n",
    "import glob, os,sys"
   ]
  },
  {
   "cell_type": "code",
   "execution_count": 11,
   "id": "b092e67a",
   "metadata": {},
   "outputs": [],
   "source": [
    "sys.path.append('../')\n",
    "path_data = '/media/eduard/Maxtor/TFG_DATABASE_AUGMENTATION/Reverbs/'"
   ]
  },
  {
   "cell_type": "code",
   "execution_count": 12,
   "id": "aa153579",
   "metadata": {},
   "outputs": [],
   "source": [
    "files = glob.glob(path_data + '*.wav')\n",
    "\n",
    "songs = ['Lily','Mountain','Century','Where','Hole','Train']\n",
    "\n",
    "anno = ['../test_data/Lily Was Here/Lily Was Here.json',\n",
    "        '../test_data/Mountain At My Gates/Mountain At My Gates.json',\n",
    "        '../test_data/20th Century Boy/20th Century Boy.json',\n",
    "        '../test_data/Where Did You Sleep Last Night/Where Did You Sleep Last Night.json',\n",
    "        '../test_data/Hole In My Shoe/Hole In My Shoe.json', \n",
    "        '../test_data/Runaway Train/Runaway Train.json']  \n",
    "\n",
    "ex_2_id={0:'../test_data/Lily Was Here/Lily Was Here.json',\n",
    "         1:'../test_data/Mountain At My Gates/Mountain At My Gates.json',\n",
    "         2:'../test_data/20th Century Boy/20th Century Boy.json',\n",
    "         3:'../test_data/Where Did You Sleep Last Night/Where Did You Sleep Last Night.json',\n",
    "         4:'../test_data/Hole In My Shoe/Hole In My Shoe.json',\n",
    "         5:'../test_data/Runaway Train/Runaway Train.json'}\n",
    "\n",
    "count = 0\n",
    "file_list = []\n",
    "\n",
    "for f in files:\n",
    "    info = {'id':0,\n",
    "       'path':'',\n",
    "       'exercise_id':'',\n",
    "       'latency' :0.0,\n",
    "        'name' : ''}\n",
    "    name = f.replace(path_data,'')\n",
    "    info['id'] = count\n",
    "    info['path'] = f.replace(path_data,'')\n",
    "    info['name'] = name\n",
    "    song = name.split('_')[0]\n",
    "    info['exercise_id'] = [i for i,f in enumerate(songs) if f == song][0]\n",
    "\n",
    "    file_list.append(info)\n",
    "    count += 1"
   ]
  },
  {
   "cell_type": "code",
   "execution_count": 13,
   "id": "f631f47f",
   "metadata": {},
   "outputs": [],
   "source": [
    "jsonString = json.dumps(file_list)\n",
    "jsonFile = open(path_data + \"references.json\", \"w\")\n",
    "jsonFile.write(jsonString)\n",
    "jsonFile.close()"
   ]
  }
 ],
 "metadata": {
  "kernelspec": {
   "display_name": "Python 3.6.8 64-bit ('simmusic': conda)",
   "language": "python",
   "name": "python36864bitsimmusicconda80a6b826c14a42388df8af3b62b964c2"
  },
  "language_info": {
   "codemirror_mode": {
    "name": "ipython",
    "version": 3
   },
   "file_extension": ".py",
   "mimetype": "text/x-python",
   "name": "python",
   "nbconvert_exporter": "python",
   "pygments_lexer": "ipython3",
   "version": "3.6.8"
  }
 },
 "nbformat": 4,
 "nbformat_minor": 5
}
