{
 "cells": [
  {
   "cell_type": "markdown",
   "metadata": {},
   "source": [
    "# This is a small version of MUSIC CRITIC code"
   ]
  },
  {
   "cell_type": "code",
   "execution_count": 9,
   "metadata": {},
   "outputs": [],
   "source": [
    "import sys\n",
    "import subprocess\n",
    "from PIL import Image\n",
    "sys.path.append('../')\n",
    "sys.path.append('./test_utils/')\n",
    "sys.path.append('./test_utils/models/')\n",
    "\n",
    "import simmusic\n",
    "import simmusic.extractors.guitar as guitar\n",
    "from test_functionality import GenericWorkflow\n",
    "from pychord_tools.models import load_model\n",
    "from training_individual_chord_model import *"
   ]
  },
  {
   "cell_type": "code",
   "execution_count": 3,
   "metadata": {},
   "outputs": [],
   "source": [
    "JSON_FILE = '/home/eduard/Escritorio/TFG_EduardVergesFranch/test_data/lwh/lily_was_here.json'\n",
    "LILYPOND_FILE = '/home/eduard/Escritorio/TFG_EduardVergesFranch/test_data/lwh/lily.ly'\n",
    "RECORDING = '/home/eduard/Escritorio/TFG_EduardVergesFranch/test_data/lwh/Good_performance.wav'"
   ]
  },
  {
   "cell_type": "code",
   "execution_count": 2,
   "metadata": {},
   "outputs": [
    {
     "name": "stdout",
     "output_type": "stream",
     "text": [
      "Loading -----> /home/eduard/anaconda3/envs/simmusic/lib/python3.6/site-packages/simmusic-0.4b0-py3.6-linux-x86_64.egg/simmusic/extractors/guitar_models/picking_workflow.pkl\n"
     ]
    }
   ],
   "source": [
    "assessment_workflow = load_model(os.path.join(simmusic.__path__[0], 'extractors/guitar_models/picking_workflow.pkl'))\n",
    "\n",
    "hacked_workflow = GenericWorkflow(\n",
    "    assessment_workflow.tuning_estimator,\n",
    "    assessment_workflow.rhythm_estimator,\n",
    "    assessment_workflow.chroma_estimator,\n",
    "    assessment_workflow.overall_estimator,\n",
    "    assessment_workflow.tuning_feature_names,\n",
    "    assessment_workflow.timing_feature_names,\n",
    "    assessment_workflow.chroma_feature_names,\n",
    "    onset_series_delta=0.22)\n"
   ]
  },
  {
   "cell_type": "code",
   "execution_count": 6,
   "metadata": {},
   "outputs": [
    {
     "name": "stdout",
     "output_type": "stream",
     "text": [
      "Loading -----> /home/eduard/Escritorio/TFG_EduardVergesFranch/test_code/test_utils/models/new_model.pkl\n",
      "[E:min B:1 G:1 A:1 E:1 A:min B:1 G:1 A:1 F#:1 G:1 F#:1 E:5 E:min]\n"
     ]
    }
   ],
   "source": [
    "results = guitar.assess_guitar_exercise( JSON_FILE, LILYPOND_FILE, 0.0, RECORDING, hacked_workflow, image_format  ='pdf')"
   ]
  },
  {
   "cell_type": "code",
   "execution_count": 7,
   "metadata": {},
   "outputs": [
    {
     "name": "stdout",
     "output_type": "stream",
     "text": [
      "Overall: 3.0\n",
      "Rhythm: 2.0\n",
      "Tuning: 4.0\n",
      "Pitch: 2.0\n"
     ]
    }
   ],
   "source": [
    "with open(\"layla.pdf\", \"wb\") as out_file:\n",
    "    out_file.write(results[\"ImageBytes\"])\n",
    "\n",
    "print('Overall:', results['Overall'])\n",
    "print('Rhythm:', results['Rhythm'])\n",
    "print('Tuning:', results['Tuning'])\n",
    "print('Pitch:', results['Pitch'])"
   ]
  }
 ],
 "metadata": {
  "kernelspec": {
   "display_name": "Python 3.6.8 64-bit ('simmusic': conda)",
   "language": "python",
   "name": "python36864bitsimmusicconda80a6b826c14a42388df8af3b62b964c2"
  },
  "language_info": {
   "codemirror_mode": {
    "name": "ipython",
    "version": 3
   },
   "file_extension": ".py",
   "mimetype": "text/x-python",
   "name": "python",
   "nbconvert_exporter": "python",
   "pygments_lexer": "ipython3",
   "version": "3.6.8"
  }
 },
 "nbformat": 4,
 "nbformat_minor": 2
}
