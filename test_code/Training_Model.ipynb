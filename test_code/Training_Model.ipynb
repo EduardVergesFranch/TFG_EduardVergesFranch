{
 "cells": [
  {
   "cell_type": "code",
   "execution_count": 13,
   "metadata": {},
   "outputs": [],
   "source": [
    "import sys\n",
    "sys.path.append('../')\n",
    "sys.path.append('./test_utils/')\n",
    "sys.path.append('./test_utils/models/')\n",
    "\n",
    "from pychord_tools.low_level_features import AnnotatedChromaSegments, AnnotatedBeatChromaEstimator\n",
    "from pychord_tools.third_party import NNLSChromaEstimator\n",
    "from pychord_tools.low_level_features import AudioPathExtractor, UidExtractor\n",
    "from simmusic.feature_extraction import AdaptiveChromaEstimator, GuitarLabelTranslator\n",
    "\n",
    "from training_individual_chord_model import NewModel,SimUidAndAudioPathExtractor\n",
    "import simmusic\n",
    "import json\n",
    "import joblib"
   ]
  },
  {
   "cell_type": "code",
   "execution_count": 14,
   "metadata": {},
   "outputs": [
    {
     "name": "stdout",
     "output_type": "stream",
     "text": [
      "Loading -----> <_io.BufferedReader name='/home/eduard/Escritorio/TFG_EduardVergesFranch/test_code/test_utils/models/new_model.pkl'>\n"
     ]
    }
   ],
   "source": [
    "model = '/home/eduard/Escritorio/TFG_EduardVergesFranch/test_code/test_utils/models/new_model.pkl'\n",
    "m =  joblib.load(open(model, 'rb'))"
   ]
  },
  {
   "cell_type": "code",
   "execution_count": 15,
   "metadata": {},
   "outputs": [],
   "source": [
    "store = '/home/eduard/Escritorio/TFG_EduardVergesFranch/test_code/test_utils/models/'\n",
    "audio = ['/home/eduard/Escritorio/TFG_EduardVergesFranch/test_data/Lily Was Here/3_gtrX_Lily Was Here_David A Stewart_Gtr Gr0.wav']\n",
    "annotaions = ['/home/eduard/Escritorio/TFG_EduardVergesFranch/test_data/Lily Was Here/Lily Was Here.json']"
   ]
  },
  {
   "cell_type": "code",
   "execution_count": 16,
   "metadata": {},
   "outputs": [],
   "source": [
    "chromaEstimator = AnnotatedBeatChromaEstimator(\n",
    "        chroma_estimator=NNLSChromaEstimator(),\n",
    "        segment_chroma_estimator=AdaptiveChromaEstimator(),\n",
    "    #    segment_chroma_estimator=SmoothedStartingBeatChromaEstimator(0.6),\n",
    "        label_translator=GuitarLabelTranslator(),\n",
    "        uid_extractor=SimUidAndAudioPathExtractor('/home/eduard/Escritorio/TFG_EduardVergesFranch/test_data/Lily Was Here/'))"
   ]
  },
  {
   "cell_type": "code",
   "execution_count": 20,
   "metadata": {},
   "outputs": [],
   "source": [
    "segments = chromaEstimator.load_chromas_for_annotation_file(annotaions[0])"
   ]
  },
  {
   "cell_type": "code",
   "execution_count": 26,
   "metadata": {},
   "outputs": [
    {
     "name": "stdout",
     "output_type": "stream",
     "text": [
      "Now training:  maj\n"
     ]
    },
    {
     "name": "stderr",
     "output_type": "stream",
     "text": [
      "/home/eduard/anaconda3/envs/simmusic/lib/python3.6/site-packages/scipy/stats/_continuous_distns.py:718: RuntimeWarning: divide by zero encountered in double_scalars\n",
      "  fac = xbar * (1 - xbar) / data.var(ddof=0) - 1\n",
      "/home/eduard/anaconda3/envs/simmusic/lib/python3.6/site-packages/scipy/stats/_continuous_distns.py:558: RuntimeWarning: invalid value encountered in double_scalars\n",
      "  func = [s1 - n * (-psiab + sc.psi(a)),\n",
      "/home/eduard/anaconda3/envs/simmusic/lib/python3.6/site-packages/scipy/stats/_continuous_distns.py:559: RuntimeWarning: invalid value encountered in double_scalars\n",
      "  s2 - n * (-psiab + sc.psi(b))]\n"
     ]
    },
    {
     "ename": "FitSolverError",
     "evalue": "Solver for the MLE equations failed to converge: The iteration is not making good progress, as measured by the   improvement from the last ten iterations.",
     "output_type": "error",
     "traceback": [
      "\u001b[0;31m---------------------------------------------------------------------------\u001b[0m",
      "\u001b[0;31mFitSolverError\u001b[0m                            Traceback (most recent call last)",
      "\u001b[0;32m<ipython-input-26-82beeb56abcd>\u001b[0m in \u001b[0;36m<module>\u001b[0;34m\u001b[0m\n\u001b[0;32m----> 1\u001b[0;31m \u001b[0mm\u001b[0m\u001b[0;34m.\u001b[0m\u001b[0mfit\u001b[0m\u001b[0;34m(\u001b[0m\u001b[0msegments\u001b[0m\u001b[0;34m)\u001b[0m\u001b[0;34m\u001b[0m\u001b[0;34m\u001b[0m\u001b[0m\n\u001b[0m\u001b[1;32m      2\u001b[0m \u001b[0mm\u001b[0m\u001b[0;34m.\u001b[0m\u001b[0msave_model\u001b[0m\u001b[0;34m(\u001b[0m\u001b[0mstore\u001b[0m \u001b[0;34m+\u001b[0m \u001b[0;34m'Test1_LWH_Model.pkl'\u001b[0m\u001b[0;34m)\u001b[0m\u001b[0;34m\u001b[0m\u001b[0;34m\u001b[0m\u001b[0m\n",
      "\u001b[0;32m~/Escritorio/TFG_EduardVergesFranch/test_code/test_utils/training_individual_chord_model.py\u001b[0m in \u001b[0;36mfit\u001b[0;34m(self, segments)\u001b[0m\n\u001b[1;32m     71\u001b[0m             \u001b[0min_chroma_composition\u001b[0m \u001b[0;34m=\u001b[0m \u001b[0msubcomposition\u001b[0m\u001b[0;34m(\u001b[0m\u001b[0;34m[\u001b[0m\u001b[0;34m[\u001b[0m\u001b[0me\u001b[0m\u001b[0;34m]\u001b[0m \u001b[0;32mfor\u001b[0m \u001b[0me\u001b[0m \u001b[0;32min\u001b[0m \u001b[0mself\u001b[0m\u001b[0;34m.\u001b[0m\u001b[0min_degree_dict\u001b[0m\u001b[0;34m[\u001b[0m\u001b[0mk\u001b[0m\u001b[0;34m]\u001b[0m\u001b[0;34m]\u001b[0m\u001b[0;34m,\u001b[0m \u001b[0mchroma\u001b[0m\u001b[0;34m)\u001b[0m\u001b[0;34m\u001b[0m\u001b[0;34m\u001b[0m\u001b[0m\n\u001b[1;32m     72\u001b[0m             \u001b[0mprint\u001b[0m\u001b[0;34m(\u001b[0m\u001b[0;34m\"Now training: \"\u001b[0m\u001b[0;34m,\u001b[0m \u001b[0mk\u001b[0m\u001b[0;34m)\u001b[0m\u001b[0;34m\u001b[0m\u001b[0;34m\u001b[0m\u001b[0m\n\u001b[0;32m---> 73\u001b[0;31m             \u001b[0mself\u001b[0m\u001b[0;34m.\u001b[0m\u001b[0mbetas\u001b[0m\u001b[0;34m[\u001b[0m\u001b[0mk\u001b[0m\u001b[0;34m]\u001b[0m \u001b[0;34m=\u001b[0m \u001b[0mbeta\u001b[0m\u001b[0;34m(\u001b[0m\u001b[0;34m*\u001b[0m\u001b[0mbeta\u001b[0m\u001b[0;34m.\u001b[0m\u001b[0mfit\u001b[0m\u001b[0;34m(\u001b[0m\u001b[0min_chroma_sums\u001b[0m\u001b[0;34m[\u001b[0m\u001b[0mk\u001b[0m\u001b[0;34m]\u001b[0m\u001b[0;34m,\u001b[0m \u001b[0mfloc\u001b[0m\u001b[0;34m=\u001b[0m\u001b[0;36m0\u001b[0m\u001b[0;34m,\u001b[0m \u001b[0mfscale\u001b[0m\u001b[0;34m=\u001b[0m\u001b[0;36m1\u001b[0m\u001b[0;34m)\u001b[0m\u001b[0;34m)\u001b[0m\u001b[0;34m\u001b[0m\u001b[0;34m\u001b[0m\u001b[0m\n\u001b[0m\u001b[1;32m     74\u001b[0m             \u001b[0mself\u001b[0m\u001b[0;34m.\u001b[0m\u001b[0mbalanceGMMs\u001b[0m\u001b[0;34m[\u001b[0m\u001b[0mk\u001b[0m\u001b[0;34m]\u001b[0m \u001b[0;34m=\u001b[0m \u001b[0mself\u001b[0m\u001b[0;34m.\u001b[0m\u001b[0mtrain_alr_gaussian\u001b[0m\u001b[0;34m(\u001b[0m\u001b[0min_chroma_composition\u001b[0m\u001b[0;34m,\u001b[0m \u001b[0mself\u001b[0m\u001b[0;34m.\u001b[0m\u001b[0mkind_to_gmm_params\u001b[0m\u001b[0;34m[\u001b[0m\u001b[0mk\u001b[0m\u001b[0;34m]\u001b[0m\u001b[0;34m)\u001b[0m\u001b[0;34m\u001b[0m\u001b[0;34m\u001b[0m\u001b[0m\n\u001b[1;32m     75\u001b[0m \u001b[0;34m\u001b[0m\u001b[0m\n",
      "\u001b[0;32m~/anaconda3/envs/simmusic/lib/python3.6/site-packages/scipy/stats/_continuous_distns.py\u001b[0m in \u001b[0;36mfit\u001b[0;34m(self, data, *args, **kwds)\u001b[0m\n\u001b[1;32m    727\u001b[0m             )\n\u001b[1;32m    728\u001b[0m             \u001b[0;32mif\u001b[0m \u001b[0mier\u001b[0m \u001b[0;34m!=\u001b[0m \u001b[0;36m1\u001b[0m\u001b[0;34m:\u001b[0m\u001b[0;34m\u001b[0m\u001b[0;34m\u001b[0m\u001b[0m\n\u001b[0;32m--> 729\u001b[0;31m                 \u001b[0;32mraise\u001b[0m \u001b[0mFitSolverError\u001b[0m\u001b[0;34m(\u001b[0m\u001b[0mmesg\u001b[0m\u001b[0;34m=\u001b[0m\u001b[0mmesg\u001b[0m\u001b[0;34m)\u001b[0m\u001b[0;34m\u001b[0m\u001b[0;34m\u001b[0m\u001b[0m\n\u001b[0m\u001b[1;32m    730\u001b[0m             \u001b[0ma\u001b[0m\u001b[0;34m,\u001b[0m \u001b[0mb\u001b[0m \u001b[0;34m=\u001b[0m \u001b[0mtheta\u001b[0m\u001b[0;34m\u001b[0m\u001b[0;34m\u001b[0m\u001b[0m\n\u001b[1;32m    731\u001b[0m \u001b[0;34m\u001b[0m\u001b[0m\n",
      "\u001b[0;31mFitSolverError\u001b[0m: Solver for the MLE equations failed to converge: The iteration is not making good progress, as measured by the   improvement from the last ten iterations."
     ]
    }
   ],
   "source": [
    "m.fit(segments)\n",
    "m.save_model(store + 'Test1_LWH_Model.pkl')"
   ]
  }
 ],
 "metadata": {
  "kernelspec": {
   "display_name": "Python 3.6.8 64-bit ('simmusic': conda)",
   "language": "python",
   "name": "python36864bitsimmusicconda80a6b826c14a42388df8af3b62b964c2"
  },
  "language_info": {
   "codemirror_mode": {
    "name": "ipython",
    "version": 3
   },
   "file_extension": ".py",
   "mimetype": "text/x-python",
   "name": "python",
   "nbconvert_exporter": "python",
   "pygments_lexer": "ipython3",
   "version": "3.6.8"
  }
 },
 "nbformat": 4,
 "nbformat_minor": 4
}
