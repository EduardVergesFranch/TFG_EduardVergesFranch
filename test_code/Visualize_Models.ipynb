{
 "cells": [
  {
   "cell_type": "code",
   "execution_count": 28,
   "metadata": {},
   "outputs": [],
   "source": [
    "import os\n",
    "\n",
    "import sys\n",
    "sys.path.append('./')\n",
    "sys.path.append('./test_utils/models/')\n",
    "from test_utils.training_individual_chord_model import *\n",
    "\n",
    "from pychord_tools.models import load_model\n",
    "from sklearn.mixture import GaussianMixture\n",
    "\n",
    "import matplotlib.pyplot as plt\n",
    "from matplotlib.colors import LogNorm"
   ]
  },
  {
   "cell_type": "code",
   "execution_count": 29,
   "metadata": {},
   "outputs": [
    {
     "data": {
      "text/plain": [
       "'/home/eduard/Escritorio/TFG_EduardVergesFranch/test_code'"
      ]
     },
     "execution_count": 29,
     "metadata": {},
     "output_type": "execute_result"
    }
   ],
   "source": [
    "os.getcwd()"
   ]
  },
  {
   "cell_type": "code",
   "execution_count": 30,
   "metadata": {
    "scrolled": true
   },
   "outputs": [
    {
     "name": "stdout",
     "output_type": "stream",
     "text": [
      "Loading -----> ./test_utils/models/TCL_Seva_Focus1.pkl\n"
     ]
    }
   ],
   "source": [
    "m =  m = load_model( './test_utils/models/TCL_Seva_Focus1.pkl')"
   ]
  },
  {
   "cell_type": "code",
   "execution_count": 44,
   "metadata": {
    "scrolled": true
   },
   "outputs": [
    {
     "data": {
      "text/plain": [
       "{'maj': GaussianMixture(covariance_type='full', init_params='kmeans', max_iter=200,\n",
       "         means_init=None, n_components=1, n_init=1, precisions_init=None,\n",
       "         random_state=None, reg_covar=1e-06, tol=0.001, verbose=0,\n",
       "         verbose_interval=10, warm_start=False, weights_init=None),\n",
       " 'min': GaussianMixture(covariance_type='full', init_params='kmeans', max_iter=200,\n",
       "         means_init=None, n_components=1, n_init=1, precisions_init=None,\n",
       "         random_state=None, reg_covar=1e-06, tol=0.001, verbose=0,\n",
       "         verbose_interval=10, warm_start=False, weights_init=None),\n",
       " '5': GaussianMixture(covariance_type='full', init_params='kmeans', max_iter=200,\n",
       "         means_init=None, n_components=1, n_init=1, precisions_init=None,\n",
       "         random_state=None, reg_covar=1e-06, tol=0.001, verbose=0,\n",
       "         verbose_interval=10, warm_start=False, weights_init=None),\n",
       " '1': GaussianMixture(covariance_type='full', init_params='kmeans', max_iter=200,\n",
       "         means_init=None, n_components=1, n_init=1, precisions_init=None,\n",
       "         random_state=None, reg_covar=1e-06, tol=0.001, verbose=0,\n",
       "         verbose_interval=10, warm_start=False, weights_init=None)}"
      ]
     },
     "execution_count": 44,
     "metadata": {},
     "output_type": "execute_result"
    }
   ],
   "source": [
    "m.balanceGMMs"
   ]
  },
  {
   "cell_type": "code",
   "execution_count": null,
   "metadata": {},
   "outputs": [],
   "source": []
  }
 ],
 "metadata": {
  "kernelspec": {
   "display_name": "Python 3.6.8 64-bit ('simmusic': conda)",
   "language": "python",
   "name": "python36864bitsimmusicconda80a6b826c14a42388df8af3b62b964c2"
  },
  "language_info": {
   "codemirror_mode": {
    "name": "ipython",
    "version": 3
   },
   "file_extension": ".py",
   "mimetype": "text/x-python",
   "name": "python",
   "nbconvert_exporter": "python",
   "pygments_lexer": "ipython3",
   "version": "3.6.8"
  }
 },
 "nbformat": 4,
 "nbformat_minor": 4
}
